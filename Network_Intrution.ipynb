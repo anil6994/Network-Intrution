{
  "nbformat": 4,
  "nbformat_minor": 0,
  "metadata": {
    "kernelspec": {
      "display_name": "Python 3",
      "language": "python",
      "name": "python3"
    },
    "language_info": {
      "codemirror_mode": {
        "name": "ipython",
        "version": 3
      },
      "file_extension": ".py",
      "mimetype": "text/x-python",
      "name": "python",
      "nbconvert_exporter": "python",
      "pygments_lexer": "ipython3",
      "version": "3.7.3"
    },
    "colab": {
      "name": "Network Intrution",
      "provenance": [],
      "collapsed_sections": [],
      "include_colab_link": true
    }
  },
  "cells": [
    {
      "cell_type": "markdown",
      "metadata": {
        "id": "view-in-github",
        "colab_type": "text"
      },
      "source": [
        "<a href=\"https://colab.research.google.com/github/anil6994/Network-Intrution/blob/master/Network_Intrution.ipynb\" target=\"_parent\"><img src=\"https://colab.research.google.com/assets/colab-badge.svg\" alt=\"Open In Colab\"/></a>"
      ]
    },
    {
      "cell_type": "code",
      "metadata": {
        "id": "djNcOzRZ4np4",
        "colab_type": "code",
        "colab": {
          "base_uri": "https://localhost:8080/",
          "height": 120
        },
        "outputId": "e9b982d8-2f02-4a75-afb3-138527940d00"
      },
      "source": [
        "from google.colab import drive\n",
        "drive.mount('/drive')"
      ],
      "execution_count": 1,
      "outputs": [
        {
          "output_type": "stream",
          "text": [
            "Go to this URL in a browser: https://accounts.google.com/o/oauth2/auth?client_id=947318989803-6bn6qk8qdgf4n4g3pfee6491hc0brc4i.apps.googleusercontent.com&redirect_uri=urn%3aietf%3awg%3aoauth%3a2.0%3aoob&response_type=code&scope=email%20https%3a%2f%2fwww.googleapis.com%2fauth%2fdocs.test%20https%3a%2f%2fwww.googleapis.com%2fauth%2fdrive%20https%3a%2f%2fwww.googleapis.com%2fauth%2fdrive.photos.readonly%20https%3a%2f%2fwww.googleapis.com%2fauth%2fpeopleapi.readonly\n",
            "\n",
            "Enter your authorization code:\n",
            "··········\n",
            "Mounted at /drive\n"
          ],
          "name": "stdout"
        }
      ]
    },
    {
      "cell_type": "code",
      "metadata": {
        "id": "dibfaw7e4ndt",
        "colab_type": "code",
        "colab": {}
      },
      "source": [
        "import os\n",
        "os.chdir('/drive/My Drive/deep learning/Hackathon_main/Network_Intrution_Detection')\n"
      ],
      "execution_count": 0,
      "outputs": []
    },
    {
      "cell_type": "code",
      "metadata": {
        "id": "UkRCaXqa4lA5",
        "colab_type": "code",
        "colab": {}
      },
      "source": [
        "import numpy as np\n",
        "import pandas as pd\n",
        "import matplotlib.pyplot as plt\n",
        "%matplotlib inline \n",
        "import seaborn as sns \n",
        "sns.set_style('darkgrid')\n",
        "import time"
      ],
      "execution_count": 0,
      "outputs": []
    },
    {
      "cell_type": "markdown",
      "metadata": {
        "id": "ll2iEl3K4lA-",
        "colab_type": "text"
      },
      "source": [
        "## Importing datset "
      ]
    },
    {
      "cell_type": "code",
      "metadata": {
        "id": "asM4FFf44lBA",
        "colab_type": "code",
        "colab": {}
      },
      "source": [
        "train =pd.read_csv('Network_Intrusion_Train_data.csv')\n",
        "test = pd.read_csv('Network_Intrusion_Test_data.csv')"
      ],
      "execution_count": 0,
      "outputs": []
    },
    {
      "cell_type": "code",
      "metadata": {
        "id": "G3LVQuxQ4lBD",
        "colab_type": "code",
        "colab": {
          "base_uri": "https://localhost:8080/",
          "height": 33
        },
        "outputId": "6beb8d88-e1dc-44eb-f8b5-566d1a8138db"
      },
      "source": [
        "# shape of train dataset , shape of test dataset\n",
        "train.shape,test.shape"
      ],
      "execution_count": 5,
      "outputs": [
        {
          "output_type": "execute_result",
          "data": {
            "text/plain": [
              "((25192, 42), (22544, 41))"
            ]
          },
          "metadata": {
            "tags": []
          },
          "execution_count": 5
        }
      ]
    },
    {
      "cell_type": "code",
      "metadata": {
        "id": "9wykFHuy4lBH",
        "colab_type": "code",
        "colab": {
          "base_uri": "https://localhost:8080/",
          "height": 803
        },
        "outputId": "b3d4fbe1-151d-4e76-8c60-56b63ee97c3a"
      },
      "source": [
        "# train \n",
        "train.info()"
      ],
      "execution_count": 6,
      "outputs": [
        {
          "output_type": "stream",
          "text": [
            "<class 'pandas.core.frame.DataFrame'>\n",
            "RangeIndex: 25192 entries, 0 to 25191\n",
            "Data columns (total 42 columns):\n",
            "duration                       25192 non-null int64\n",
            "protocol_type                  25192 non-null object\n",
            "service                        25192 non-null object\n",
            "flag                           25192 non-null object\n",
            "src_bytes                      25192 non-null int64\n",
            "dst_bytes                      25192 non-null int64\n",
            "land                           25192 non-null int64\n",
            "wrong_fragment                 25192 non-null int64\n",
            "urgent                         25192 non-null int64\n",
            "hot                            25192 non-null int64\n",
            "num_failed_logins              25192 non-null int64\n",
            "logged_in                      25192 non-null int64\n",
            "num_compromised                25192 non-null int64\n",
            "root_shell                     25192 non-null int64\n",
            "su_attempted                   25192 non-null int64\n",
            "num_root                       25192 non-null int64\n",
            "num_file_creations             25192 non-null int64\n",
            "num_shells                     25192 non-null int64\n",
            "num_access_files               25192 non-null int64\n",
            "num_outbound_cmds              25192 non-null int64\n",
            "is_host_login                  25192 non-null int64\n",
            "is_guest_login                 25192 non-null int64\n",
            "count                          25192 non-null int64\n",
            "srv_count                      25192 non-null int64\n",
            "serror_rate                    25192 non-null float64\n",
            "srv_serror_rate                25192 non-null float64\n",
            "rerror_rate                    25192 non-null float64\n",
            "srv_rerror_rate                25192 non-null float64\n",
            "same_srv_rate                  25192 non-null float64\n",
            "diff_srv_rate                  25192 non-null float64\n",
            "srv_diff_host_rate             25192 non-null float64\n",
            "dst_host_count                 25192 non-null int64\n",
            "dst_host_srv_count             25192 non-null int64\n",
            "dst_host_same_srv_rate         25192 non-null float64\n",
            "dst_host_diff_srv_rate         25192 non-null float64\n",
            "dst_host_same_src_port_rate    25192 non-null float64\n",
            "dst_host_srv_diff_host_rate    25192 non-null float64\n",
            "dst_host_serror_rate           25192 non-null float64\n",
            "dst_host_srv_serror_rate       25192 non-null float64\n",
            "dst_host_rerror_rate           25192 non-null float64\n",
            "dst_host_srv_rerror_rate       25192 non-null float64\n",
            "class                          25192 non-null object\n",
            "dtypes: float64(15), int64(23), object(4)\n",
            "memory usage: 8.1+ MB\n"
          ],
          "name": "stdout"
        }
      ]
    },
    {
      "cell_type": "code",
      "metadata": {
        "id": "3l1WdiYm4lBL",
        "colab_type": "code",
        "colab": {
          "base_uri": "https://localhost:8080/",
          "height": 786
        },
        "outputId": "00614628-fcb1-4858-ba45-68d260ff2ec1"
      },
      "source": [
        "# test\n",
        "test.info()"
      ],
      "execution_count": 7,
      "outputs": [
        {
          "output_type": "stream",
          "text": [
            "<class 'pandas.core.frame.DataFrame'>\n",
            "RangeIndex: 22544 entries, 0 to 22543\n",
            "Data columns (total 41 columns):\n",
            "duration                       22544 non-null int64\n",
            "protocol_type                  22544 non-null object\n",
            "service                        22544 non-null object\n",
            "flag                           22544 non-null object\n",
            "src_bytes                      22544 non-null int64\n",
            "dst_bytes                      22544 non-null int64\n",
            "land                           22544 non-null int64\n",
            "wrong_fragment                 22544 non-null int64\n",
            "urgent                         22544 non-null int64\n",
            "hot                            22544 non-null int64\n",
            "num_failed_logins              22544 non-null int64\n",
            "logged_in                      22544 non-null int64\n",
            "num_compromised                22544 non-null int64\n",
            "root_shell                     22544 non-null int64\n",
            "su_attempted                   22544 non-null int64\n",
            "num_root                       22544 non-null int64\n",
            "num_file_creations             22544 non-null int64\n",
            "num_shells                     22544 non-null int64\n",
            "num_access_files               22544 non-null int64\n",
            "num_outbound_cmds              22544 non-null int64\n",
            "is_host_login                  22544 non-null int64\n",
            "is_guest_login                 22544 non-null int64\n",
            "count                          22544 non-null int64\n",
            "srv_count                      22544 non-null int64\n",
            "serror_rate                    22544 non-null float64\n",
            "srv_serror_rate                22544 non-null float64\n",
            "rerror_rate                    22544 non-null float64\n",
            "srv_rerror_rate                22544 non-null float64\n",
            "same_srv_rate                  22544 non-null float64\n",
            "diff_srv_rate                  22544 non-null float64\n",
            "srv_diff_host_rate             22544 non-null float64\n",
            "dst_host_count                 22544 non-null int64\n",
            "dst_host_srv_count             22544 non-null int64\n",
            "dst_host_same_srv_rate         22544 non-null float64\n",
            "dst_host_diff_srv_rate         22544 non-null float64\n",
            "dst_host_same_src_port_rate    22544 non-null float64\n",
            "dst_host_srv_diff_host_rate    22544 non-null float64\n",
            "dst_host_serror_rate           22544 non-null float64\n",
            "dst_host_srv_serror_rate       22544 non-null float64\n",
            "dst_host_rerror_rate           22544 non-null float64\n",
            "dst_host_srv_rerror_rate       22544 non-null float64\n",
            "dtypes: float64(15), int64(23), object(3)\n",
            "memory usage: 7.1+ MB\n"
          ],
          "name": "stdout"
        }
      ]
    },
    {
      "cell_type": "markdown",
      "metadata": {
        "id": "vllHC_kf4lBP",
        "colab_type": "text"
      },
      "source": [
        "# Descriptive Statistics "
      ]
    },
    {
      "cell_type": "code",
      "metadata": {
        "id": "xT1X_lY64lBR",
        "colab_type": "code",
        "colab": {
          "base_uri": "https://localhost:8080/",
          "height": 306
        },
        "outputId": "1014b093-60e1-4e67-e47a-8b7350c1ab32"
      },
      "source": [
        "train.describe()"
      ],
      "execution_count": 8,
      "outputs": [
        {
          "output_type": "execute_result",
          "data": {
            "text/html": [
              "<div>\n",
              "<style scoped>\n",
              "    .dataframe tbody tr th:only-of-type {\n",
              "        vertical-align: middle;\n",
              "    }\n",
              "\n",
              "    .dataframe tbody tr th {\n",
              "        vertical-align: top;\n",
              "    }\n",
              "\n",
              "    .dataframe thead th {\n",
              "        text-align: right;\n",
              "    }\n",
              "</style>\n",
              "<table border=\"1\" class=\"dataframe\">\n",
              "  <thead>\n",
              "    <tr style=\"text-align: right;\">\n",
              "      <th></th>\n",
              "      <th>duration</th>\n",
              "      <th>src_bytes</th>\n",
              "      <th>dst_bytes</th>\n",
              "      <th>land</th>\n",
              "      <th>wrong_fragment</th>\n",
              "      <th>urgent</th>\n",
              "      <th>hot</th>\n",
              "      <th>num_failed_logins</th>\n",
              "      <th>logged_in</th>\n",
              "      <th>num_compromised</th>\n",
              "      <th>root_shell</th>\n",
              "      <th>su_attempted</th>\n",
              "      <th>num_root</th>\n",
              "      <th>num_file_creations</th>\n",
              "      <th>num_shells</th>\n",
              "      <th>num_access_files</th>\n",
              "      <th>num_outbound_cmds</th>\n",
              "      <th>is_host_login</th>\n",
              "      <th>is_guest_login</th>\n",
              "      <th>count</th>\n",
              "      <th>srv_count</th>\n",
              "      <th>serror_rate</th>\n",
              "      <th>srv_serror_rate</th>\n",
              "      <th>rerror_rate</th>\n",
              "      <th>srv_rerror_rate</th>\n",
              "      <th>same_srv_rate</th>\n",
              "      <th>diff_srv_rate</th>\n",
              "      <th>srv_diff_host_rate</th>\n",
              "      <th>dst_host_count</th>\n",
              "      <th>dst_host_srv_count</th>\n",
              "      <th>dst_host_same_srv_rate</th>\n",
              "      <th>dst_host_diff_srv_rate</th>\n",
              "      <th>dst_host_same_src_port_rate</th>\n",
              "      <th>dst_host_srv_diff_host_rate</th>\n",
              "      <th>dst_host_serror_rate</th>\n",
              "      <th>dst_host_srv_serror_rate</th>\n",
              "      <th>dst_host_rerror_rate</th>\n",
              "      <th>dst_host_srv_rerror_rate</th>\n",
              "    </tr>\n",
              "  </thead>\n",
              "  <tbody>\n",
              "    <tr>\n",
              "      <th>count</th>\n",
              "      <td>25192.000000</td>\n",
              "      <td>2.519200e+04</td>\n",
              "      <td>2.519200e+04</td>\n",
              "      <td>25192.000000</td>\n",
              "      <td>25192.000000</td>\n",
              "      <td>25192.00000</td>\n",
              "      <td>25192.000000</td>\n",
              "      <td>25192.000000</td>\n",
              "      <td>25192.000000</td>\n",
              "      <td>25192.000000</td>\n",
              "      <td>25192.000000</td>\n",
              "      <td>25192.000000</td>\n",
              "      <td>25192.000000</td>\n",
              "      <td>25192.000000</td>\n",
              "      <td>25192.000000</td>\n",
              "      <td>25192.000000</td>\n",
              "      <td>25192.0</td>\n",
              "      <td>25192.0</td>\n",
              "      <td>25192.000000</td>\n",
              "      <td>25192.000000</td>\n",
              "      <td>25192.000000</td>\n",
              "      <td>25192.000000</td>\n",
              "      <td>25192.000000</td>\n",
              "      <td>25192.000000</td>\n",
              "      <td>25192.000000</td>\n",
              "      <td>25192.000000</td>\n",
              "      <td>25192.000000</td>\n",
              "      <td>25192.000000</td>\n",
              "      <td>25192.000000</td>\n",
              "      <td>25192.000000</td>\n",
              "      <td>25192.000000</td>\n",
              "      <td>25192.000000</td>\n",
              "      <td>25192.000000</td>\n",
              "      <td>25192.000000</td>\n",
              "      <td>25192.000000</td>\n",
              "      <td>25192.000000</td>\n",
              "      <td>25192.000000</td>\n",
              "      <td>25192.000000</td>\n",
              "    </tr>\n",
              "    <tr>\n",
              "      <th>mean</th>\n",
              "      <td>305.054104</td>\n",
              "      <td>2.433063e+04</td>\n",
              "      <td>3.491847e+03</td>\n",
              "      <td>0.000079</td>\n",
              "      <td>0.023738</td>\n",
              "      <td>0.00004</td>\n",
              "      <td>0.198039</td>\n",
              "      <td>0.001191</td>\n",
              "      <td>0.394768</td>\n",
              "      <td>0.227850</td>\n",
              "      <td>0.001548</td>\n",
              "      <td>0.001350</td>\n",
              "      <td>0.249841</td>\n",
              "      <td>0.014727</td>\n",
              "      <td>0.000357</td>\n",
              "      <td>0.004327</td>\n",
              "      <td>0.0</td>\n",
              "      <td>0.0</td>\n",
              "      <td>0.009130</td>\n",
              "      <td>84.591180</td>\n",
              "      <td>27.698754</td>\n",
              "      <td>0.286338</td>\n",
              "      <td>0.283762</td>\n",
              "      <td>0.118630</td>\n",
              "      <td>0.120260</td>\n",
              "      <td>0.660559</td>\n",
              "      <td>0.062363</td>\n",
              "      <td>0.095931</td>\n",
              "      <td>182.532074</td>\n",
              "      <td>115.063036</td>\n",
              "      <td>0.519791</td>\n",
              "      <td>0.082539</td>\n",
              "      <td>0.147453</td>\n",
              "      <td>0.031844</td>\n",
              "      <td>0.285800</td>\n",
              "      <td>0.279846</td>\n",
              "      <td>0.117800</td>\n",
              "      <td>0.118769</td>\n",
              "    </tr>\n",
              "    <tr>\n",
              "      <th>std</th>\n",
              "      <td>2686.555640</td>\n",
              "      <td>2.410805e+06</td>\n",
              "      <td>8.883072e+04</td>\n",
              "      <td>0.008910</td>\n",
              "      <td>0.260221</td>\n",
              "      <td>0.00630</td>\n",
              "      <td>2.154202</td>\n",
              "      <td>0.045418</td>\n",
              "      <td>0.488811</td>\n",
              "      <td>10.417352</td>\n",
              "      <td>0.039316</td>\n",
              "      <td>0.048785</td>\n",
              "      <td>11.500842</td>\n",
              "      <td>0.529602</td>\n",
              "      <td>0.018898</td>\n",
              "      <td>0.098524</td>\n",
              "      <td>0.0</td>\n",
              "      <td>0.0</td>\n",
              "      <td>0.095115</td>\n",
              "      <td>114.673451</td>\n",
              "      <td>72.468242</td>\n",
              "      <td>0.447312</td>\n",
              "      <td>0.447599</td>\n",
              "      <td>0.318745</td>\n",
              "      <td>0.322335</td>\n",
              "      <td>0.439637</td>\n",
              "      <td>0.178550</td>\n",
              "      <td>0.256583</td>\n",
              "      <td>98.993895</td>\n",
              "      <td>110.646850</td>\n",
              "      <td>0.448944</td>\n",
              "      <td>0.187191</td>\n",
              "      <td>0.308367</td>\n",
              "      <td>0.110575</td>\n",
              "      <td>0.445316</td>\n",
              "      <td>0.446075</td>\n",
              "      <td>0.305869</td>\n",
              "      <td>0.317333</td>\n",
              "    </tr>\n",
              "    <tr>\n",
              "      <th>min</th>\n",
              "      <td>0.000000</td>\n",
              "      <td>0.000000e+00</td>\n",
              "      <td>0.000000e+00</td>\n",
              "      <td>0.000000</td>\n",
              "      <td>0.000000</td>\n",
              "      <td>0.00000</td>\n",
              "      <td>0.000000</td>\n",
              "      <td>0.000000</td>\n",
              "      <td>0.000000</td>\n",
              "      <td>0.000000</td>\n",
              "      <td>0.000000</td>\n",
              "      <td>0.000000</td>\n",
              "      <td>0.000000</td>\n",
              "      <td>0.000000</td>\n",
              "      <td>0.000000</td>\n",
              "      <td>0.000000</td>\n",
              "      <td>0.0</td>\n",
              "      <td>0.0</td>\n",
              "      <td>0.000000</td>\n",
              "      <td>1.000000</td>\n",
              "      <td>1.000000</td>\n",
              "      <td>0.000000</td>\n",
              "      <td>0.000000</td>\n",
              "      <td>0.000000</td>\n",
              "      <td>0.000000</td>\n",
              "      <td>0.000000</td>\n",
              "      <td>0.000000</td>\n",
              "      <td>0.000000</td>\n",
              "      <td>0.000000</td>\n",
              "      <td>0.000000</td>\n",
              "      <td>0.000000</td>\n",
              "      <td>0.000000</td>\n",
              "      <td>0.000000</td>\n",
              "      <td>0.000000</td>\n",
              "      <td>0.000000</td>\n",
              "      <td>0.000000</td>\n",
              "      <td>0.000000</td>\n",
              "      <td>0.000000</td>\n",
              "    </tr>\n",
              "    <tr>\n",
              "      <th>25%</th>\n",
              "      <td>0.000000</td>\n",
              "      <td>0.000000e+00</td>\n",
              "      <td>0.000000e+00</td>\n",
              "      <td>0.000000</td>\n",
              "      <td>0.000000</td>\n",
              "      <td>0.00000</td>\n",
              "      <td>0.000000</td>\n",
              "      <td>0.000000</td>\n",
              "      <td>0.000000</td>\n",
              "      <td>0.000000</td>\n",
              "      <td>0.000000</td>\n",
              "      <td>0.000000</td>\n",
              "      <td>0.000000</td>\n",
              "      <td>0.000000</td>\n",
              "      <td>0.000000</td>\n",
              "      <td>0.000000</td>\n",
              "      <td>0.0</td>\n",
              "      <td>0.0</td>\n",
              "      <td>0.000000</td>\n",
              "      <td>2.000000</td>\n",
              "      <td>2.000000</td>\n",
              "      <td>0.000000</td>\n",
              "      <td>0.000000</td>\n",
              "      <td>0.000000</td>\n",
              "      <td>0.000000</td>\n",
              "      <td>0.090000</td>\n",
              "      <td>0.000000</td>\n",
              "      <td>0.000000</td>\n",
              "      <td>84.000000</td>\n",
              "      <td>10.000000</td>\n",
              "      <td>0.050000</td>\n",
              "      <td>0.000000</td>\n",
              "      <td>0.000000</td>\n",
              "      <td>0.000000</td>\n",
              "      <td>0.000000</td>\n",
              "      <td>0.000000</td>\n",
              "      <td>0.000000</td>\n",
              "      <td>0.000000</td>\n",
              "    </tr>\n",
              "    <tr>\n",
              "      <th>50%</th>\n",
              "      <td>0.000000</td>\n",
              "      <td>4.400000e+01</td>\n",
              "      <td>0.000000e+00</td>\n",
              "      <td>0.000000</td>\n",
              "      <td>0.000000</td>\n",
              "      <td>0.00000</td>\n",
              "      <td>0.000000</td>\n",
              "      <td>0.000000</td>\n",
              "      <td>0.000000</td>\n",
              "      <td>0.000000</td>\n",
              "      <td>0.000000</td>\n",
              "      <td>0.000000</td>\n",
              "      <td>0.000000</td>\n",
              "      <td>0.000000</td>\n",
              "      <td>0.000000</td>\n",
              "      <td>0.000000</td>\n",
              "      <td>0.0</td>\n",
              "      <td>0.0</td>\n",
              "      <td>0.000000</td>\n",
              "      <td>14.000000</td>\n",
              "      <td>8.000000</td>\n",
              "      <td>0.000000</td>\n",
              "      <td>0.000000</td>\n",
              "      <td>0.000000</td>\n",
              "      <td>0.000000</td>\n",
              "      <td>1.000000</td>\n",
              "      <td>0.000000</td>\n",
              "      <td>0.000000</td>\n",
              "      <td>255.000000</td>\n",
              "      <td>61.000000</td>\n",
              "      <td>0.510000</td>\n",
              "      <td>0.030000</td>\n",
              "      <td>0.000000</td>\n",
              "      <td>0.000000</td>\n",
              "      <td>0.000000</td>\n",
              "      <td>0.000000</td>\n",
              "      <td>0.000000</td>\n",
              "      <td>0.000000</td>\n",
              "    </tr>\n",
              "    <tr>\n",
              "      <th>75%</th>\n",
              "      <td>0.000000</td>\n",
              "      <td>2.790000e+02</td>\n",
              "      <td>5.302500e+02</td>\n",
              "      <td>0.000000</td>\n",
              "      <td>0.000000</td>\n",
              "      <td>0.00000</td>\n",
              "      <td>0.000000</td>\n",
              "      <td>0.000000</td>\n",
              "      <td>1.000000</td>\n",
              "      <td>0.000000</td>\n",
              "      <td>0.000000</td>\n",
              "      <td>0.000000</td>\n",
              "      <td>0.000000</td>\n",
              "      <td>0.000000</td>\n",
              "      <td>0.000000</td>\n",
              "      <td>0.000000</td>\n",
              "      <td>0.0</td>\n",
              "      <td>0.0</td>\n",
              "      <td>0.000000</td>\n",
              "      <td>144.000000</td>\n",
              "      <td>18.000000</td>\n",
              "      <td>1.000000</td>\n",
              "      <td>1.000000</td>\n",
              "      <td>0.000000</td>\n",
              "      <td>0.000000</td>\n",
              "      <td>1.000000</td>\n",
              "      <td>0.060000</td>\n",
              "      <td>0.000000</td>\n",
              "      <td>255.000000</td>\n",
              "      <td>255.000000</td>\n",
              "      <td>1.000000</td>\n",
              "      <td>0.070000</td>\n",
              "      <td>0.060000</td>\n",
              "      <td>0.020000</td>\n",
              "      <td>1.000000</td>\n",
              "      <td>1.000000</td>\n",
              "      <td>0.000000</td>\n",
              "      <td>0.000000</td>\n",
              "    </tr>\n",
              "    <tr>\n",
              "      <th>max</th>\n",
              "      <td>42862.000000</td>\n",
              "      <td>3.817091e+08</td>\n",
              "      <td>5.151385e+06</td>\n",
              "      <td>1.000000</td>\n",
              "      <td>3.000000</td>\n",
              "      <td>1.00000</td>\n",
              "      <td>77.000000</td>\n",
              "      <td>4.000000</td>\n",
              "      <td>1.000000</td>\n",
              "      <td>884.000000</td>\n",
              "      <td>1.000000</td>\n",
              "      <td>2.000000</td>\n",
              "      <td>975.000000</td>\n",
              "      <td>40.000000</td>\n",
              "      <td>1.000000</td>\n",
              "      <td>8.000000</td>\n",
              "      <td>0.0</td>\n",
              "      <td>0.0</td>\n",
              "      <td>1.000000</td>\n",
              "      <td>511.000000</td>\n",
              "      <td>511.000000</td>\n",
              "      <td>1.000000</td>\n",
              "      <td>1.000000</td>\n",
              "      <td>1.000000</td>\n",
              "      <td>1.000000</td>\n",
              "      <td>1.000000</td>\n",
              "      <td>1.000000</td>\n",
              "      <td>1.000000</td>\n",
              "      <td>255.000000</td>\n",
              "      <td>255.000000</td>\n",
              "      <td>1.000000</td>\n",
              "      <td>1.000000</td>\n",
              "      <td>1.000000</td>\n",
              "      <td>1.000000</td>\n",
              "      <td>1.000000</td>\n",
              "      <td>1.000000</td>\n",
              "      <td>1.000000</td>\n",
              "      <td>1.000000</td>\n",
              "    </tr>\n",
              "  </tbody>\n",
              "</table>\n",
              "</div>"
            ],
            "text/plain": [
              "           duration  ...  dst_host_srv_rerror_rate\n",
              "count  25192.000000  ...              25192.000000\n",
              "mean     305.054104  ...                  0.118769\n",
              "std     2686.555640  ...                  0.317333\n",
              "min        0.000000  ...                  0.000000\n",
              "25%        0.000000  ...                  0.000000\n",
              "50%        0.000000  ...                  0.000000\n",
              "75%        0.000000  ...                  0.000000\n",
              "max    42862.000000  ...                  1.000000\n",
              "\n",
              "[8 rows x 38 columns]"
            ]
          },
          "metadata": {
            "tags": []
          },
          "execution_count": 8
        }
      ]
    },
    {
      "cell_type": "code",
      "metadata": {
        "id": "6nLyBywY4lBh",
        "colab_type": "code",
        "colab": {}
      },
      "source": [
        ""
      ],
      "execution_count": 0,
      "outputs": []
    },
    {
      "cell_type": "code",
      "metadata": {
        "id": "9hDsihwx4lBu",
        "colab_type": "code",
        "colab": {
          "base_uri": "https://localhost:8080/",
          "height": 306
        },
        "outputId": "9091eda6-ead2-48fa-cfd5-ac883629c704"
      },
      "source": [
        "# checking the outerliers in test dataset\n",
        "test.describe()"
      ],
      "execution_count": 9,
      "outputs": [
        {
          "output_type": "execute_result",
          "data": {
            "text/html": [
              "<div>\n",
              "<style scoped>\n",
              "    .dataframe tbody tr th:only-of-type {\n",
              "        vertical-align: middle;\n",
              "    }\n",
              "\n",
              "    .dataframe tbody tr th {\n",
              "        vertical-align: top;\n",
              "    }\n",
              "\n",
              "    .dataframe thead th {\n",
              "        text-align: right;\n",
              "    }\n",
              "</style>\n",
              "<table border=\"1\" class=\"dataframe\">\n",
              "  <thead>\n",
              "    <tr style=\"text-align: right;\">\n",
              "      <th></th>\n",
              "      <th>duration</th>\n",
              "      <th>src_bytes</th>\n",
              "      <th>dst_bytes</th>\n",
              "      <th>land</th>\n",
              "      <th>wrong_fragment</th>\n",
              "      <th>urgent</th>\n",
              "      <th>hot</th>\n",
              "      <th>num_failed_logins</th>\n",
              "      <th>logged_in</th>\n",
              "      <th>num_compromised</th>\n",
              "      <th>root_shell</th>\n",
              "      <th>su_attempted</th>\n",
              "      <th>num_root</th>\n",
              "      <th>num_file_creations</th>\n",
              "      <th>num_shells</th>\n",
              "      <th>num_access_files</th>\n",
              "      <th>num_outbound_cmds</th>\n",
              "      <th>is_host_login</th>\n",
              "      <th>is_guest_login</th>\n",
              "      <th>count</th>\n",
              "      <th>srv_count</th>\n",
              "      <th>serror_rate</th>\n",
              "      <th>srv_serror_rate</th>\n",
              "      <th>rerror_rate</th>\n",
              "      <th>srv_rerror_rate</th>\n",
              "      <th>same_srv_rate</th>\n",
              "      <th>diff_srv_rate</th>\n",
              "      <th>srv_diff_host_rate</th>\n",
              "      <th>dst_host_count</th>\n",
              "      <th>dst_host_srv_count</th>\n",
              "      <th>dst_host_same_srv_rate</th>\n",
              "      <th>dst_host_diff_srv_rate</th>\n",
              "      <th>dst_host_same_src_port_rate</th>\n",
              "      <th>dst_host_srv_diff_host_rate</th>\n",
              "      <th>dst_host_serror_rate</th>\n",
              "      <th>dst_host_srv_serror_rate</th>\n",
              "      <th>dst_host_rerror_rate</th>\n",
              "      <th>dst_host_srv_rerror_rate</th>\n",
              "    </tr>\n",
              "  </thead>\n",
              "  <tbody>\n",
              "    <tr>\n",
              "      <th>count</th>\n",
              "      <td>22544.000000</td>\n",
              "      <td>2.254400e+04</td>\n",
              "      <td>2.254400e+04</td>\n",
              "      <td>22544.000000</td>\n",
              "      <td>22544.000000</td>\n",
              "      <td>22544.000000</td>\n",
              "      <td>22544.000000</td>\n",
              "      <td>22544.000000</td>\n",
              "      <td>22544.000000</td>\n",
              "      <td>22544.000000</td>\n",
              "      <td>22544.000000</td>\n",
              "      <td>22544.000000</td>\n",
              "      <td>22544.000000</td>\n",
              "      <td>22544.000000</td>\n",
              "      <td>22544.000000</td>\n",
              "      <td>22544.000000</td>\n",
              "      <td>22544.0</td>\n",
              "      <td>22544.000000</td>\n",
              "      <td>22544.000000</td>\n",
              "      <td>22544.000000</td>\n",
              "      <td>22544.000000</td>\n",
              "      <td>22544.000000</td>\n",
              "      <td>22544.000000</td>\n",
              "      <td>22544.000000</td>\n",
              "      <td>22544.000000</td>\n",
              "      <td>22544.000000</td>\n",
              "      <td>22544.000000</td>\n",
              "      <td>22544.000000</td>\n",
              "      <td>22544.000000</td>\n",
              "      <td>22544.000000</td>\n",
              "      <td>22544.000000</td>\n",
              "      <td>22544.000000</td>\n",
              "      <td>22544.000000</td>\n",
              "      <td>22544.000000</td>\n",
              "      <td>22544.000000</td>\n",
              "      <td>22544.000000</td>\n",
              "      <td>22544.000000</td>\n",
              "      <td>22544.000000</td>\n",
              "    </tr>\n",
              "    <tr>\n",
              "      <th>mean</th>\n",
              "      <td>218.859076</td>\n",
              "      <td>1.039545e+04</td>\n",
              "      <td>2.056019e+03</td>\n",
              "      <td>0.000311</td>\n",
              "      <td>0.008428</td>\n",
              "      <td>0.000710</td>\n",
              "      <td>0.105394</td>\n",
              "      <td>0.021647</td>\n",
              "      <td>0.442202</td>\n",
              "      <td>0.119899</td>\n",
              "      <td>0.002440</td>\n",
              "      <td>0.000266</td>\n",
              "      <td>0.114665</td>\n",
              "      <td>0.008738</td>\n",
              "      <td>0.001153</td>\n",
              "      <td>0.003549</td>\n",
              "      <td>0.0</td>\n",
              "      <td>0.000488</td>\n",
              "      <td>0.028433</td>\n",
              "      <td>79.028345</td>\n",
              "      <td>31.124379</td>\n",
              "      <td>0.102924</td>\n",
              "      <td>0.103635</td>\n",
              "      <td>0.238463</td>\n",
              "      <td>0.235179</td>\n",
              "      <td>0.740345</td>\n",
              "      <td>0.094074</td>\n",
              "      <td>0.098110</td>\n",
              "      <td>193.869411</td>\n",
              "      <td>140.750532</td>\n",
              "      <td>0.608722</td>\n",
              "      <td>0.090540</td>\n",
              "      <td>0.132261</td>\n",
              "      <td>0.019638</td>\n",
              "      <td>0.097814</td>\n",
              "      <td>0.099426</td>\n",
              "      <td>0.233385</td>\n",
              "      <td>0.226683</td>\n",
              "    </tr>\n",
              "    <tr>\n",
              "      <th>std</th>\n",
              "      <td>1407.176612</td>\n",
              "      <td>4.727864e+05</td>\n",
              "      <td>2.121930e+04</td>\n",
              "      <td>0.017619</td>\n",
              "      <td>0.142599</td>\n",
              "      <td>0.036473</td>\n",
              "      <td>0.928428</td>\n",
              "      <td>0.150328</td>\n",
              "      <td>0.496659</td>\n",
              "      <td>7.269597</td>\n",
              "      <td>0.049334</td>\n",
              "      <td>0.021060</td>\n",
              "      <td>8.041614</td>\n",
              "      <td>0.676842</td>\n",
              "      <td>0.048014</td>\n",
              "      <td>0.067829</td>\n",
              "      <td>0.0</td>\n",
              "      <td>0.022084</td>\n",
              "      <td>0.166211</td>\n",
              "      <td>128.539248</td>\n",
              "      <td>89.062532</td>\n",
              "      <td>0.295367</td>\n",
              "      <td>0.298332</td>\n",
              "      <td>0.416118</td>\n",
              "      <td>0.416215</td>\n",
              "      <td>0.412496</td>\n",
              "      <td>0.259138</td>\n",
              "      <td>0.253545</td>\n",
              "      <td>94.035663</td>\n",
              "      <td>111.783972</td>\n",
              "      <td>0.435688</td>\n",
              "      <td>0.220717</td>\n",
              "      <td>0.306268</td>\n",
              "      <td>0.085394</td>\n",
              "      <td>0.273139</td>\n",
              "      <td>0.281866</td>\n",
              "      <td>0.387229</td>\n",
              "      <td>0.400875</td>\n",
              "    </tr>\n",
              "    <tr>\n",
              "      <th>min</th>\n",
              "      <td>0.000000</td>\n",
              "      <td>0.000000e+00</td>\n",
              "      <td>0.000000e+00</td>\n",
              "      <td>0.000000</td>\n",
              "      <td>0.000000</td>\n",
              "      <td>0.000000</td>\n",
              "      <td>0.000000</td>\n",
              "      <td>0.000000</td>\n",
              "      <td>0.000000</td>\n",
              "      <td>0.000000</td>\n",
              "      <td>0.000000</td>\n",
              "      <td>0.000000</td>\n",
              "      <td>0.000000</td>\n",
              "      <td>0.000000</td>\n",
              "      <td>0.000000</td>\n",
              "      <td>0.000000</td>\n",
              "      <td>0.0</td>\n",
              "      <td>0.000000</td>\n",
              "      <td>0.000000</td>\n",
              "      <td>0.000000</td>\n",
              "      <td>0.000000</td>\n",
              "      <td>0.000000</td>\n",
              "      <td>0.000000</td>\n",
              "      <td>0.000000</td>\n",
              "      <td>0.000000</td>\n",
              "      <td>0.000000</td>\n",
              "      <td>0.000000</td>\n",
              "      <td>0.000000</td>\n",
              "      <td>0.000000</td>\n",
              "      <td>0.000000</td>\n",
              "      <td>0.000000</td>\n",
              "      <td>0.000000</td>\n",
              "      <td>0.000000</td>\n",
              "      <td>0.000000</td>\n",
              "      <td>0.000000</td>\n",
              "      <td>0.000000</td>\n",
              "      <td>0.000000</td>\n",
              "      <td>0.000000</td>\n",
              "    </tr>\n",
              "    <tr>\n",
              "      <th>25%</th>\n",
              "      <td>0.000000</td>\n",
              "      <td>0.000000e+00</td>\n",
              "      <td>0.000000e+00</td>\n",
              "      <td>0.000000</td>\n",
              "      <td>0.000000</td>\n",
              "      <td>0.000000</td>\n",
              "      <td>0.000000</td>\n",
              "      <td>0.000000</td>\n",
              "      <td>0.000000</td>\n",
              "      <td>0.000000</td>\n",
              "      <td>0.000000</td>\n",
              "      <td>0.000000</td>\n",
              "      <td>0.000000</td>\n",
              "      <td>0.000000</td>\n",
              "      <td>0.000000</td>\n",
              "      <td>0.000000</td>\n",
              "      <td>0.0</td>\n",
              "      <td>0.000000</td>\n",
              "      <td>0.000000</td>\n",
              "      <td>1.000000</td>\n",
              "      <td>1.000000</td>\n",
              "      <td>0.000000</td>\n",
              "      <td>0.000000</td>\n",
              "      <td>0.000000</td>\n",
              "      <td>0.000000</td>\n",
              "      <td>0.250000</td>\n",
              "      <td>0.000000</td>\n",
              "      <td>0.000000</td>\n",
              "      <td>121.000000</td>\n",
              "      <td>15.000000</td>\n",
              "      <td>0.070000</td>\n",
              "      <td>0.000000</td>\n",
              "      <td>0.000000</td>\n",
              "      <td>0.000000</td>\n",
              "      <td>0.000000</td>\n",
              "      <td>0.000000</td>\n",
              "      <td>0.000000</td>\n",
              "      <td>0.000000</td>\n",
              "    </tr>\n",
              "    <tr>\n",
              "      <th>50%</th>\n",
              "      <td>0.000000</td>\n",
              "      <td>5.400000e+01</td>\n",
              "      <td>4.600000e+01</td>\n",
              "      <td>0.000000</td>\n",
              "      <td>0.000000</td>\n",
              "      <td>0.000000</td>\n",
              "      <td>0.000000</td>\n",
              "      <td>0.000000</td>\n",
              "      <td>0.000000</td>\n",
              "      <td>0.000000</td>\n",
              "      <td>0.000000</td>\n",
              "      <td>0.000000</td>\n",
              "      <td>0.000000</td>\n",
              "      <td>0.000000</td>\n",
              "      <td>0.000000</td>\n",
              "      <td>0.000000</td>\n",
              "      <td>0.0</td>\n",
              "      <td>0.000000</td>\n",
              "      <td>0.000000</td>\n",
              "      <td>8.000000</td>\n",
              "      <td>6.000000</td>\n",
              "      <td>0.000000</td>\n",
              "      <td>0.000000</td>\n",
              "      <td>0.000000</td>\n",
              "      <td>0.000000</td>\n",
              "      <td>1.000000</td>\n",
              "      <td>0.000000</td>\n",
              "      <td>0.000000</td>\n",
              "      <td>255.000000</td>\n",
              "      <td>168.000000</td>\n",
              "      <td>0.920000</td>\n",
              "      <td>0.010000</td>\n",
              "      <td>0.000000</td>\n",
              "      <td>0.000000</td>\n",
              "      <td>0.000000</td>\n",
              "      <td>0.000000</td>\n",
              "      <td>0.000000</td>\n",
              "      <td>0.000000</td>\n",
              "    </tr>\n",
              "    <tr>\n",
              "      <th>75%</th>\n",
              "      <td>0.000000</td>\n",
              "      <td>2.870000e+02</td>\n",
              "      <td>6.010000e+02</td>\n",
              "      <td>0.000000</td>\n",
              "      <td>0.000000</td>\n",
              "      <td>0.000000</td>\n",
              "      <td>0.000000</td>\n",
              "      <td>0.000000</td>\n",
              "      <td>1.000000</td>\n",
              "      <td>0.000000</td>\n",
              "      <td>0.000000</td>\n",
              "      <td>0.000000</td>\n",
              "      <td>0.000000</td>\n",
              "      <td>0.000000</td>\n",
              "      <td>0.000000</td>\n",
              "      <td>0.000000</td>\n",
              "      <td>0.0</td>\n",
              "      <td>0.000000</td>\n",
              "      <td>0.000000</td>\n",
              "      <td>123.250000</td>\n",
              "      <td>16.000000</td>\n",
              "      <td>0.000000</td>\n",
              "      <td>0.000000</td>\n",
              "      <td>0.250000</td>\n",
              "      <td>0.072500</td>\n",
              "      <td>1.000000</td>\n",
              "      <td>0.060000</td>\n",
              "      <td>0.000000</td>\n",
              "      <td>255.000000</td>\n",
              "      <td>255.000000</td>\n",
              "      <td>1.000000</td>\n",
              "      <td>0.060000</td>\n",
              "      <td>0.030000</td>\n",
              "      <td>0.010000</td>\n",
              "      <td>0.000000</td>\n",
              "      <td>0.000000</td>\n",
              "      <td>0.360000</td>\n",
              "      <td>0.170000</td>\n",
              "    </tr>\n",
              "    <tr>\n",
              "      <th>max</th>\n",
              "      <td>57715.000000</td>\n",
              "      <td>6.282565e+07</td>\n",
              "      <td>1.345927e+06</td>\n",
              "      <td>1.000000</td>\n",
              "      <td>3.000000</td>\n",
              "      <td>3.000000</td>\n",
              "      <td>101.000000</td>\n",
              "      <td>4.000000</td>\n",
              "      <td>1.000000</td>\n",
              "      <td>796.000000</td>\n",
              "      <td>1.000000</td>\n",
              "      <td>2.000000</td>\n",
              "      <td>878.000000</td>\n",
              "      <td>100.000000</td>\n",
              "      <td>5.000000</td>\n",
              "      <td>4.000000</td>\n",
              "      <td>0.0</td>\n",
              "      <td>1.000000</td>\n",
              "      <td>1.000000</td>\n",
              "      <td>511.000000</td>\n",
              "      <td>511.000000</td>\n",
              "      <td>1.000000</td>\n",
              "      <td>1.000000</td>\n",
              "      <td>1.000000</td>\n",
              "      <td>1.000000</td>\n",
              "      <td>1.000000</td>\n",
              "      <td>1.000000</td>\n",
              "      <td>1.000000</td>\n",
              "      <td>255.000000</td>\n",
              "      <td>255.000000</td>\n",
              "      <td>1.000000</td>\n",
              "      <td>1.000000</td>\n",
              "      <td>1.000000</td>\n",
              "      <td>1.000000</td>\n",
              "      <td>1.000000</td>\n",
              "      <td>1.000000</td>\n",
              "      <td>1.000000</td>\n",
              "      <td>1.000000</td>\n",
              "    </tr>\n",
              "  </tbody>\n",
              "</table>\n",
              "</div>"
            ],
            "text/plain": [
              "           duration  ...  dst_host_srv_rerror_rate\n",
              "count  22544.000000  ...              22544.000000\n",
              "mean     218.859076  ...                  0.226683\n",
              "std     1407.176612  ...                  0.400875\n",
              "min        0.000000  ...                  0.000000\n",
              "25%        0.000000  ...                  0.000000\n",
              "50%        0.000000  ...                  0.000000\n",
              "75%        0.000000  ...                  0.170000\n",
              "max    57715.000000  ...                  1.000000\n",
              "\n",
              "[8 rows x 38 columns]"
            ]
          },
          "metadata": {
            "tags": []
          },
          "execution_count": 9
        }
      ]
    },
    {
      "cell_type": "code",
      "metadata": {
        "id": "pr5R-VXE4lBz",
        "colab_type": "code",
        "colab": {
          "base_uri": "https://localhost:8080/",
          "height": 297
        },
        "outputId": "6a05545b-85fa-4d22-aaba-9a89c8276b42"
      },
      "source": [
        "sns.countplot(train['class'])"
      ],
      "execution_count": 10,
      "outputs": [
        {
          "output_type": "execute_result",
          "data": {
            "text/plain": [
              "<matplotlib.axes._subplots.AxesSubplot at 0x7fe7798b6c50>"
            ]
          },
          "metadata": {
            "tags": []
          },
          "execution_count": 10
        },
        {
          "output_type": "display_data",
          "data": {
            "image/png": "[encoded data removed]",
            "text/plain": [
              "<Figure size 432x288 with 1 Axes>"
            ]
          },
          "metadata": {
            "tags": []
          }
        }
      ]
    },
    {
      "cell_type": "code",
      "metadata": {
        "id": "mffBi3ye4lB2",
        "colab_type": "code",
        "colab": {
          "base_uri": "https://localhost:8080/",
          "height": 301
        },
        "outputId": "dab0d8b0-6a33-484e-9fa1-8d57e989e7c7"
      },
      "source": [
        "train['num_outbound_cmds'].describe()\n",
        "test['num_outbound_cmds'].describe()\n",
        "print(train['num_outbound_cmds'].describe(),test['num_outbound_cmds'].describe())\n"
      ],
      "execution_count": 11,
      "outputs": [
        {
          "output_type": "stream",
          "text": [
            "count    25192.0\n",
            "mean         0.0\n",
            "std          0.0\n",
            "min          0.0\n",
            "25%          0.0\n",
            "50%          0.0\n",
            "75%          0.0\n",
            "max          0.0\n",
            "Name: num_outbound_cmds, dtype: float64 count    22544.0\n",
            "mean         0.0\n",
            "std          0.0\n",
            "min          0.0\n",
            "25%          0.0\n",
            "50%          0.0\n",
            "75%          0.0\n",
            "max          0.0\n",
            "Name: num_outbound_cmds, dtype: float64\n"
          ],
          "name": "stdout"
        }
      ]
    },
    {
      "cell_type": "code",
      "metadata": {
        "id": "xVOGkWaB4lB4",
        "colab_type": "code",
        "colab": {}
      },
      "source": [
        "train.drop('num_outbound_cmds',axis = 1,inplace = True)\n",
        "test.drop('num_outbound_cmds',axis = 1,inplace = True)\n"
      ],
      "execution_count": 0,
      "outputs": []
    },
    {
      "cell_type": "markdown",
      "metadata": {
        "id": "2AggNE-d4lB8",
        "colab_type": "text"
      },
      "source": [
        "# Handle categorical variables"
      ]
    },
    {
      "cell_type": "code",
      "metadata": {
        "id": "SvRlgpIx4lB8",
        "colab_type": "code",
        "colab": {}
      },
      "source": [
        "train_a =train.select_dtypes(include=['object']).columns\n",
        "test_a =test.select_dtypes(include=['object']).columns\n"
      ],
      "execution_count": 0,
      "outputs": []
    },
    {
      "cell_type": "code",
      "metadata": {
        "id": "O3lqe2w54lB_",
        "colab_type": "code",
        "colab": {
          "base_uri": "https://localhost:8080/",
          "height": 107
        },
        "outputId": "aa27fc2f-5f3a-4f74-c9fb-fc2a9e456459"
      },
      "source": [
        "from sklearn.preprocessing import LabelEncoder\n",
        "le = LabelEncoder()\n",
        "\n",
        "cat = train.select_dtypes(include=['object'])\n",
        "\n",
        "train_cat1=cat.apply(le.fit_transform)\n",
        "\n",
        "train_cat=train_cat1.drop(['class'],axis = 1)\n",
        "train_d1=train_cat\n",
        "train_d1.head(2)"
      ],
      "execution_count": 14,
      "outputs": [
        {
          "output_type": "execute_result",
          "data": {
            "text/html": [
              "<div>\n",
              "<style scoped>\n",
              "    .dataframe tbody tr th:only-of-type {\n",
              "        vertical-align: middle;\n",
              "    }\n",
              "\n",
              "    .dataframe tbody tr th {\n",
              "        vertical-align: top;\n",
              "    }\n",
              "\n",
              "    .dataframe thead th {\n",
              "        text-align: right;\n",
              "    }\n",
              "</style>\n",
              "<table border=\"1\" class=\"dataframe\">\n",
              "  <thead>\n",
              "    <tr style=\"text-align: right;\">\n",
              "      <th></th>\n",
              "      <th>protocol_type</th>\n",
              "      <th>service</th>\n",
              "      <th>flag</th>\n",
              "    </tr>\n",
              "  </thead>\n",
              "  <tbody>\n",
              "    <tr>\n",
              "      <th>0</th>\n",
              "      <td>1</td>\n",
              "      <td>19</td>\n",
              "      <td>9</td>\n",
              "    </tr>\n",
              "    <tr>\n",
              "      <th>1</th>\n",
              "      <td>2</td>\n",
              "      <td>41</td>\n",
              "      <td>9</td>\n",
              "    </tr>\n",
              "  </tbody>\n",
              "</table>\n",
              "</div>"
            ],
            "text/plain": [
              "   protocol_type  service  flag\n",
              "0              1       19     9\n",
              "1              2       41     9"
            ]
          },
          "metadata": {
            "tags": []
          },
          "execution_count": 14
        }
      ]
    },
    {
      "cell_type": "code",
      "metadata": {
        "id": "3Vxo7XUs4lCD",
        "colab_type": "code",
        "colab": {
          "base_uri": "https://localhost:8080/",
          "height": 107
        },
        "outputId": "479d5aa0-4217-4954-8acb-42a39298e877"
      },
      "source": [
        "train_d11 =pd.concat([train_d1,train['class']],axis = 1)\n",
        "train_d11.head(2)"
      ],
      "execution_count": 15,
      "outputs": [
        {
          "output_type": "execute_result",
          "data": {
            "text/html": [
              "<div>\n",
              "<style scoped>\n",
              "    .dataframe tbody tr th:only-of-type {\n",
              "        vertical-align: middle;\n",
              "    }\n",
              "\n",
              "    .dataframe tbody tr th {\n",
              "        vertical-align: top;\n",
              "    }\n",
              "\n",
              "    .dataframe thead th {\n",
              "        text-align: right;\n",
              "    }\n",
              "</style>\n",
              "<table border=\"1\" class=\"dataframe\">\n",
              "  <thead>\n",
              "    <tr style=\"text-align: right;\">\n",
              "      <th></th>\n",
              "      <th>protocol_type</th>\n",
              "      <th>service</th>\n",
              "      <th>flag</th>\n",
              "      <th>class</th>\n",
              "    </tr>\n",
              "  </thead>\n",
              "  <tbody>\n",
              "    <tr>\n",
              "      <th>0</th>\n",
              "      <td>1</td>\n",
              "      <td>19</td>\n",
              "      <td>9</td>\n",
              "      <td>normal</td>\n",
              "    </tr>\n",
              "    <tr>\n",
              "      <th>1</th>\n",
              "      <td>2</td>\n",
              "      <td>41</td>\n",
              "      <td>9</td>\n",
              "      <td>normal</td>\n",
              "    </tr>\n",
              "  </tbody>\n",
              "</table>\n",
              "</div>"
            ],
            "text/plain": [
              "   protocol_type  service  flag   class\n",
              "0              1       19     9  normal\n",
              "1              2       41     9  normal"
            ]
          },
          "metadata": {
            "tags": []
          },
          "execution_count": 15
        }
      ]
    },
    {
      "cell_type": "code",
      "metadata": {
        "id": "1DFpAzHb4lCG",
        "colab_type": "code",
        "colab": {
          "base_uri": "https://localhost:8080/",
          "height": 107
        },
        "outputId": "dcf4bb07-7d83-403c-e457-c14b1306bb48"
      },
      "source": [
        "from sklearn.preprocessing import LabelEncoder\n",
        "le = LabelEncoder()\n",
        "\n",
        "cat = test.select_dtypes(include=['object'])\n",
        "\n",
        "test_cat1=cat.apply(le.fit_transform)\n",
        "\n",
        "test_cat1.head(2)"
      ],
      "execution_count": 16,
      "outputs": [
        {
          "output_type": "execute_result",
          "data": {
            "text/html": [
              "<div>\n",
              "<style scoped>\n",
              "    .dataframe tbody tr th:only-of-type {\n",
              "        vertical-align: middle;\n",
              "    }\n",
              "\n",
              "    .dataframe tbody tr th {\n",
              "        vertical-align: top;\n",
              "    }\n",
              "\n",
              "    .dataframe thead th {\n",
              "        text-align: right;\n",
              "    }\n",
              "</style>\n",
              "<table border=\"1\" class=\"dataframe\">\n",
              "  <thead>\n",
              "    <tr style=\"text-align: right;\">\n",
              "      <th></th>\n",
              "      <th>protocol_type</th>\n",
              "      <th>service</th>\n",
              "      <th>flag</th>\n",
              "    </tr>\n",
              "  </thead>\n",
              "  <tbody>\n",
              "    <tr>\n",
              "      <th>0</th>\n",
              "      <td>1</td>\n",
              "      <td>45</td>\n",
              "      <td>1</td>\n",
              "    </tr>\n",
              "    <tr>\n",
              "      <th>1</th>\n",
              "      <td>1</td>\n",
              "      <td>45</td>\n",
              "      <td>1</td>\n",
              "    </tr>\n",
              "  </tbody>\n",
              "</table>\n",
              "</div>"
            ],
            "text/plain": [
              "   protocol_type  service  flag\n",
              "0              1       45     1\n",
              "1              1       45     1"
            ]
          },
          "metadata": {
            "tags": []
          },
          "execution_count": 16
        }
      ]
    },
    {
      "cell_type": "markdown",
      "metadata": {
        "id": "R64aoskp4lCJ",
        "colab_type": "text"
      },
      "source": [
        "# Handle numerical variables"
      ]
    },
    {
      "cell_type": "code",
      "metadata": {
        "id": "AhDMneG_4lCJ",
        "colab_type": "code",
        "colab": {}
      },
      "source": [
        "train_col_int =train.select_dtypes(include=['int64','float64']).columns\n",
        "test_col_int =train.select_dtypes(include=['int64','float64']).columns\n",
        "\n"
      ],
      "execution_count": 0,
      "outputs": []
    },
    {
      "cell_type": "code",
      "metadata": {
        "id": "Z8RR8LeQ4lCM",
        "colab_type": "code",
        "colab": {
          "base_uri": "https://localhost:8080/",
          "height": 234
        },
        "outputId": "a9c4f794-89e3-431e-ce1c-fa2397613a45"
      },
      "source": [
        "from sklearn.preprocessing import StandardScaler\n",
        "sc = StandardScaler()\n",
        "\n",
        "cols = train.select_dtypes(include=['float64','int64'])\n",
        "sc_train = sc.fit_transform(cols)\n",
        "sc_train"
      ],
      "execution_count": 18,
      "outputs": [
        {
          "output_type": "execute_result",
          "data": {
            "text/plain": [
              "array([[-0.11355066, -0.00988885, -0.03930979, ..., -0.62736475,\n",
              "        -0.22166806, -0.37428075],\n",
              "       [-0.11355066, -0.01003196, -0.03930979, ..., -0.62736475,\n",
              "        -0.38513984, -0.37428075],\n",
              "       [-0.11355066, -0.01009252, -0.03930979, ...,  1.61445359,\n",
              "        -0.38513984, -0.37428075],\n",
              "       ...,\n",
              "       [-0.11355066, -0.01009252, -0.03930979, ..., -0.62736475,\n",
              "         2.88429591,  2.77704096],\n",
              "       [-0.11355066, -0.01009252, -0.03930979, ...,  1.61445359,\n",
              "        -0.38513984, -0.37428075],\n",
              "       [-0.11355066, -0.01009252, -0.03930979, ...,  1.61445359,\n",
              "        -0.38513984, -0.37428075]])"
            ]
          },
          "metadata": {
            "tags": []
          },
          "execution_count": 18
        }
      ]
    },
    {
      "cell_type": "code",
      "metadata": {
        "id": "u35_f0Wo4lCO",
        "colab_type": "code",
        "colab": {
          "base_uri": "https://localhost:8080/",
          "height": 127
        },
        "outputId": "07352728-c979-4d9d-d03c-aa37221b0ee8"
      },
      "source": [
        "train_d2=pd.DataFrame(sc_train,columns=train_col_int)\n",
        "train_d2.head(2)"
      ],
      "execution_count": 19,
      "outputs": [
        {
          "output_type": "execute_result",
          "data": {
            "text/html": [
              "<div>\n",
              "<style scoped>\n",
              "    .dataframe tbody tr th:only-of-type {\n",
              "        vertical-align: middle;\n",
              "    }\n",
              "\n",
              "    .dataframe tbody tr th {\n",
              "        vertical-align: top;\n",
              "    }\n",
              "\n",
              "    .dataframe thead th {\n",
              "        text-align: right;\n",
              "    }\n",
              "</style>\n",
              "<table border=\"1\" class=\"dataframe\">\n",
              "  <thead>\n",
              "    <tr style=\"text-align: right;\">\n",
              "      <th></th>\n",
              "      <th>duration</th>\n",
              "      <th>src_bytes</th>\n",
              "      <th>dst_bytes</th>\n",
              "      <th>land</th>\n",
              "      <th>wrong_fragment</th>\n",
              "      <th>urgent</th>\n",
              "      <th>hot</th>\n",
              "      <th>num_failed_logins</th>\n",
              "      <th>logged_in</th>\n",
              "      <th>num_compromised</th>\n",
              "      <th>root_shell</th>\n",
              "      <th>su_attempted</th>\n",
              "      <th>num_root</th>\n",
              "      <th>num_file_creations</th>\n",
              "      <th>num_shells</th>\n",
              "      <th>num_access_files</th>\n",
              "      <th>is_host_login</th>\n",
              "      <th>is_guest_login</th>\n",
              "      <th>count</th>\n",
              "      <th>srv_count</th>\n",
              "      <th>serror_rate</th>\n",
              "      <th>srv_serror_rate</th>\n",
              "      <th>rerror_rate</th>\n",
              "      <th>srv_rerror_rate</th>\n",
              "      <th>same_srv_rate</th>\n",
              "      <th>diff_srv_rate</th>\n",
              "      <th>srv_diff_host_rate</th>\n",
              "      <th>dst_host_count</th>\n",
              "      <th>dst_host_srv_count</th>\n",
              "      <th>dst_host_same_srv_rate</th>\n",
              "      <th>dst_host_diff_srv_rate</th>\n",
              "      <th>dst_host_same_src_port_rate</th>\n",
              "      <th>dst_host_srv_diff_host_rate</th>\n",
              "      <th>dst_host_serror_rate</th>\n",
              "      <th>dst_host_srv_serror_rate</th>\n",
              "      <th>dst_host_rerror_rate</th>\n",
              "      <th>dst_host_srv_rerror_rate</th>\n",
              "    </tr>\n",
              "  </thead>\n",
              "  <tbody>\n",
              "    <tr>\n",
              "      <th>0</th>\n",
              "      <td>-0.113551</td>\n",
              "      <td>-0.009889</td>\n",
              "      <td>-0.03931</td>\n",
              "      <td>-0.00891</td>\n",
              "      <td>-0.091223</td>\n",
              "      <td>-0.006301</td>\n",
              "      <td>-0.091933</td>\n",
              "      <td>-0.02622</td>\n",
              "      <td>-0.807626</td>\n",
              "      <td>-0.021873</td>\n",
              "      <td>-0.039377</td>\n",
              "      <td>-0.027665</td>\n",
              "      <td>-0.021724</td>\n",
              "      <td>-0.027808</td>\n",
              "      <td>-0.018905</td>\n",
              "      <td>-0.043917</td>\n",
              "      <td>0.0</td>\n",
              "      <td>-0.09599</td>\n",
              "      <td>-0.720244</td>\n",
              "      <td>-0.354628</td>\n",
              "      <td>-0.640142</td>\n",
              "      <td>-0.633978</td>\n",
              "      <td>-0.372186</td>\n",
              "      <td>-0.373098</td>\n",
              "      <td>0.772109</td>\n",
              "      <td>-0.349282</td>\n",
              "      <td>-0.373886</td>\n",
              "      <td>-0.328634</td>\n",
              "      <td>-0.813985</td>\n",
              "      <td>-0.779157</td>\n",
              "      <td>-0.280673</td>\n",
              "      <td>0.07312</td>\n",
              "      <td>-0.287993</td>\n",
              "      <td>-0.641804</td>\n",
              "      <td>-0.627365</td>\n",
              "      <td>-0.221668</td>\n",
              "      <td>-0.374281</td>\n",
              "    </tr>\n",
              "    <tr>\n",
              "      <th>1</th>\n",
              "      <td>-0.113551</td>\n",
              "      <td>-0.010032</td>\n",
              "      <td>-0.03931</td>\n",
              "      <td>-0.00891</td>\n",
              "      <td>-0.091223</td>\n",
              "      <td>-0.006301</td>\n",
              "      <td>-0.091933</td>\n",
              "      <td>-0.02622</td>\n",
              "      <td>-0.807626</td>\n",
              "      <td>-0.021873</td>\n",
              "      <td>-0.039377</td>\n",
              "      <td>-0.027665</td>\n",
              "      <td>-0.021724</td>\n",
              "      <td>-0.027808</td>\n",
              "      <td>-0.018905</td>\n",
              "      <td>-0.043917</td>\n",
              "      <td>0.0</td>\n",
              "      <td>-0.09599</td>\n",
              "      <td>-0.624317</td>\n",
              "      <td>-0.368427</td>\n",
              "      <td>-0.640142</td>\n",
              "      <td>-0.633978</td>\n",
              "      <td>-0.372186</td>\n",
              "      <td>-0.373098</td>\n",
              "      <td>-1.320567</td>\n",
              "      <td>0.490836</td>\n",
              "      <td>-0.373886</td>\n",
              "      <td>0.732059</td>\n",
              "      <td>-1.030895</td>\n",
              "      <td>-1.157831</td>\n",
              "      <td>2.764403</td>\n",
              "      <td>2.37562</td>\n",
              "      <td>-0.287993</td>\n",
              "      <td>-0.641804</td>\n",
              "      <td>-0.627365</td>\n",
              "      <td>-0.385140</td>\n",
              "      <td>-0.374281</td>\n",
              "    </tr>\n",
              "  </tbody>\n",
              "</table>\n",
              "</div>"
            ],
            "text/plain": [
              "   duration  src_bytes  ...  dst_host_rerror_rate  dst_host_srv_rerror_rate\n",
              "0 -0.113551  -0.009889  ...             -0.221668                 -0.374281\n",
              "1 -0.113551  -0.010032  ...             -0.385140                 -0.374281\n",
              "\n",
              "[2 rows x 37 columns]"
            ]
          },
          "metadata": {
            "tags": []
          },
          "execution_count": 19
        }
      ]
    },
    {
      "cell_type": "code",
      "metadata": {
        "id": "QCwOmOX_4lCU",
        "colab_type": "code",
        "colab": {
          "base_uri": "https://localhost:8080/",
          "height": 234
        },
        "outputId": "4ff35a76-781e-43c0-8c2d-4f903a2a26fb"
      },
      "source": [
        "from sklearn.preprocessing import StandardScaler\n",
        "sc = StandardScaler()\n",
        "\n",
        "cols = test.select_dtypes(include=['float64','int64'])\n",
        "sc_test = sc.fit_transform(cols)\n",
        "sc_test"
      ],
      "execution_count": 20,
      "outputs": [
        {
          "output_type": "execute_result",
          "data": {
            "text/plain": [
              "array([[-0.15553409, -0.02198811, -0.09689597, ..., -0.3527496 ,\n",
              "         1.97979091,  1.9291162 ],\n",
              "       [-0.15553409, -0.02198811, -0.09689597, ..., -0.3527496 ,\n",
              "         1.97979091,  1.9291162 ],\n",
              "       [-0.15411277,  0.0054731 , -0.09689597, ..., -0.3527496 ,\n",
              "        -0.60271888, -0.56548308],\n",
              "       ...,\n",
              "       [-0.15553409,  0.09337309,  0.29492588, ..., -0.3527496 ,\n",
              "        -0.4219432 , -0.39086113],\n",
              "       [-0.15553409, -0.02189927, -0.0949166 , ..., -0.3527496 ,\n",
              "        -0.60271888, -0.56548308],\n",
              "       [-0.15553409, -0.02198811, -0.09689597, ..., -0.3527496 ,\n",
              "         0.53358543,  1.9291162 ]])"
            ]
          },
          "metadata": {
            "tags": []
          },
          "execution_count": 20
        }
      ]
    },
    {
      "cell_type": "code",
      "metadata": {
        "id": "cI0WhTJc4lCY",
        "colab_type": "code",
        "colab": {
          "base_uri": "https://localhost:8080/",
          "height": 127
        },
        "outputId": "d229031c-c20b-4fb4-d0b9-b5db56308bc7"
      },
      "source": [
        "test_d2=pd.DataFrame(sc_test,columns=test_col_int)\n",
        "test_d2.head(2)"
      ],
      "execution_count": 21,
      "outputs": [
        {
          "output_type": "execute_result",
          "data": {
            "text/html": [
              "<div>\n",
              "<style scoped>\n",
              "    .dataframe tbody tr th:only-of-type {\n",
              "        vertical-align: middle;\n",
              "    }\n",
              "\n",
              "    .dataframe tbody tr th {\n",
              "        vertical-align: top;\n",
              "    }\n",
              "\n",
              "    .dataframe thead th {\n",
              "        text-align: right;\n",
              "    }\n",
              "</style>\n",
              "<table border=\"1\" class=\"dataframe\">\n",
              "  <thead>\n",
              "    <tr style=\"text-align: right;\">\n",
              "      <th></th>\n",
              "      <th>duration</th>\n",
              "      <th>src_bytes</th>\n",
              "      <th>dst_bytes</th>\n",
              "      <th>land</th>\n",
              "      <th>wrong_fragment</th>\n",
              "      <th>urgent</th>\n",
              "      <th>hot</th>\n",
              "      <th>num_failed_logins</th>\n",
              "      <th>logged_in</th>\n",
              "      <th>num_compromised</th>\n",
              "      <th>root_shell</th>\n",
              "      <th>su_attempted</th>\n",
              "      <th>num_root</th>\n",
              "      <th>num_file_creations</th>\n",
              "      <th>num_shells</th>\n",
              "      <th>num_access_files</th>\n",
              "      <th>is_host_login</th>\n",
              "      <th>is_guest_login</th>\n",
              "      <th>count</th>\n",
              "      <th>srv_count</th>\n",
              "      <th>serror_rate</th>\n",
              "      <th>srv_serror_rate</th>\n",
              "      <th>rerror_rate</th>\n",
              "      <th>srv_rerror_rate</th>\n",
              "      <th>same_srv_rate</th>\n",
              "      <th>diff_srv_rate</th>\n",
              "      <th>srv_diff_host_rate</th>\n",
              "      <th>dst_host_count</th>\n",
              "      <th>dst_host_srv_count</th>\n",
              "      <th>dst_host_same_srv_rate</th>\n",
              "      <th>dst_host_diff_srv_rate</th>\n",
              "      <th>dst_host_same_src_port_rate</th>\n",
              "      <th>dst_host_srv_diff_host_rate</th>\n",
              "      <th>dst_host_serror_rate</th>\n",
              "      <th>dst_host_srv_serror_rate</th>\n",
              "      <th>dst_host_rerror_rate</th>\n",
              "      <th>dst_host_srv_rerror_rate</th>\n",
              "    </tr>\n",
              "  </thead>\n",
              "  <tbody>\n",
              "    <tr>\n",
              "      <th>0</th>\n",
              "      <td>-0.155534</td>\n",
              "      <td>-0.021988</td>\n",
              "      <td>-0.096896</td>\n",
              "      <td>-0.017624</td>\n",
              "      <td>-0.059104</td>\n",
              "      <td>-0.019459</td>\n",
              "      <td>-0.113521</td>\n",
              "      <td>-0.143999</td>\n",
              "      <td>-0.890373</td>\n",
              "      <td>-0.016494</td>\n",
              "      <td>-0.049453</td>\n",
              "      <td>-0.012638</td>\n",
              "      <td>-0.014259</td>\n",
              "      <td>-0.012911</td>\n",
              "      <td>-0.02402</td>\n",
              "      <td>-0.052318</td>\n",
              "      <td>-0.022095</td>\n",
              "      <td>-0.171071</td>\n",
              "      <td>1.166764</td>\n",
              "      <td>-0.237191</td>\n",
              "      <td>-0.348468</td>\n",
              "      <td>-0.34739</td>\n",
              "      <td>1.830141</td>\n",
              "      <td>1.837604</td>\n",
              "      <td>-1.697859</td>\n",
              "      <td>-0.131492</td>\n",
              "      <td>-0.386963</td>\n",
              "      <td>0.650093</td>\n",
              "      <td>-1.169697</td>\n",
              "      <td>-1.305370</td>\n",
              "      <td>-0.13837</td>\n",
              "      <td>-0.431856</td>\n",
              "      <td>-0.22998</td>\n",
              "      <td>-0.358118</td>\n",
              "      <td>-0.35275</td>\n",
              "      <td>1.979791</td>\n",
              "      <td>1.929116</td>\n",
              "    </tr>\n",
              "    <tr>\n",
              "      <th>1</th>\n",
              "      <td>-0.155534</td>\n",
              "      <td>-0.021988</td>\n",
              "      <td>-0.096896</td>\n",
              "      <td>-0.017624</td>\n",
              "      <td>-0.059104</td>\n",
              "      <td>-0.019459</td>\n",
              "      <td>-0.113521</td>\n",
              "      <td>-0.143999</td>\n",
              "      <td>-0.890373</td>\n",
              "      <td>-0.016494</td>\n",
              "      <td>-0.049453</td>\n",
              "      <td>-0.012638</td>\n",
              "      <td>-0.014259</td>\n",
              "      <td>-0.012911</td>\n",
              "      <td>-0.02402</td>\n",
              "      <td>-0.052318</td>\n",
              "      <td>-0.022095</td>\n",
              "      <td>-0.171071</td>\n",
              "      <td>0.443234</td>\n",
              "      <td>-0.338246</td>\n",
              "      <td>-0.348468</td>\n",
              "      <td>-0.34739</td>\n",
              "      <td>1.830141</td>\n",
              "      <td>1.837604</td>\n",
              "      <td>-1.770589</td>\n",
              "      <td>-0.131492</td>\n",
              "      <td>-0.386963</td>\n",
              "      <td>0.650093</td>\n",
              "      <td>-1.250212</td>\n",
              "      <td>-1.397181</td>\n",
              "      <td>-0.13837</td>\n",
              "      <td>-0.431856</td>\n",
              "      <td>-0.22998</td>\n",
              "      <td>-0.358118</td>\n",
              "      <td>-0.35275</td>\n",
              "      <td>1.979791</td>\n",
              "      <td>1.929116</td>\n",
              "    </tr>\n",
              "  </tbody>\n",
              "</table>\n",
              "</div>"
            ],
            "text/plain": [
              "   duration  src_bytes  ...  dst_host_rerror_rate  dst_host_srv_rerror_rate\n",
              "0 -0.155534  -0.021988  ...              1.979791                  1.929116\n",
              "1 -0.155534  -0.021988  ...              1.979791                  1.929116\n",
              "\n",
              "[2 rows x 37 columns]"
            ]
          },
          "metadata": {
            "tags": []
          },
          "execution_count": 21
        }
      ]
    },
    {
      "cell_type": "code",
      "metadata": {
        "id": "CPmUUQfW4lCf",
        "colab_type": "code",
        "colab": {}
      },
      "source": [
        "train_final_data = pd.concat([train_d11,train_d2],axis = 1)"
      ],
      "execution_count": 0,
      "outputs": []
    },
    {
      "cell_type": "code",
      "metadata": {
        "id": "t67xd6zy4lCl",
        "colab_type": "code",
        "colab": {}
      },
      "source": [
        "test_final_data = pd.concat([test_cat1,test_d2],axis = 1)\n"
      ],
      "execution_count": 0,
      "outputs": []
    },
    {
      "cell_type": "code",
      "metadata": {
        "id": "vFp0vemj4lCn",
        "colab_type": "code",
        "colab": {
          "base_uri": "https://localhost:8080/",
          "height": 33
        },
        "outputId": "2c2f9dd9-e691-42d2-8992-625ddc0f4d99"
      },
      "source": [
        "train_final_data.shape,test_final_data.shape"
      ],
      "execution_count": 24,
      "outputs": [
        {
          "output_type": "execute_result",
          "data": {
            "text/plain": [
              "((25192, 41), (22544, 40))"
            ]
          },
          "metadata": {
            "tags": []
          },
          "execution_count": 24
        }
      ]
    },
    {
      "cell_type": "code",
      "metadata": {
        "id": "nwcLw_Bl4lCp",
        "colab_type": "code",
        "colab": {}
      },
      "source": [
        "x = train_final_data[['protocol_type', 'service', 'flag', 'duration', 'src_bytes',\n",
        "       'dst_bytes', 'land', 'wrong_fragment', 'urgent', 'hot',\n",
        "       'num_failed_logins', 'logged_in', 'num_compromised', 'root_shell',\n",
        "       'su_attempted', 'num_root', 'num_file_creations', 'num_shells',\n",
        "       'num_access_files', 'is_host_login', 'is_guest_login', 'count',\n",
        "       'srv_count', 'serror_rate', 'srv_serror_rate', 'rerror_rate',\n",
        "       'srv_rerror_rate', 'same_srv_rate', 'diff_srv_rate',\n",
        "       'srv_diff_host_rate', 'dst_host_count', 'dst_host_srv_count',\n",
        "       'dst_host_same_srv_rate', 'dst_host_diff_srv_rate',\n",
        "       'dst_host_same_src_port_rate', 'dst_host_srv_diff_host_rate',\n",
        "       'dst_host_serror_rate', 'dst_host_srv_serror_rate',\n",
        "       'dst_host_rerror_rate', 'dst_host_srv_rerror_rate']]"
      ],
      "execution_count": 0,
      "outputs": []
    },
    {
      "cell_type": "code",
      "metadata": {
        "id": "tLYY0WLt4lCr",
        "colab_type": "code",
        "colab": {}
      },
      "source": [
        "y = train_final_data['class']"
      ],
      "execution_count": 0,
      "outputs": []
    },
    {
      "cell_type": "code",
      "metadata": {
        "id": "jGXxpoNe4lCu",
        "colab_type": "code",
        "colab": {
          "base_uri": "https://localhost:8080/",
          "height": 33
        },
        "outputId": "d0ede7a4-e269-4c92-ae3d-3715f1ee65d8"
      },
      "source": [
        "x.shape"
      ],
      "execution_count": 27,
      "outputs": [
        {
          "output_type": "execute_result",
          "data": {
            "text/plain": [
              "(25192, 40)"
            ]
          },
          "metadata": {
            "tags": []
          },
          "execution_count": 27
        }
      ]
    },
    {
      "cell_type": "code",
      "metadata": {
        "id": "ARb9FC6G4lCw",
        "colab_type": "code",
        "colab": {
          "base_uri": "https://localhost:8080/",
          "height": 33
        },
        "outputId": "3c1dd456-0814-4b4b-d50d-0b6c8a0b582f"
      },
      "source": [
        "y.shape"
      ],
      "execution_count": 28,
      "outputs": [
        {
          "output_type": "execute_result",
          "data": {
            "text/plain": [
              "(25192,)"
            ]
          },
          "metadata": {
            "tags": []
          },
          "execution_count": 28
        }
      ]
    },
    {
      "cell_type": "code",
      "metadata": {
        "id": "2v7X4bJQ4lCz",
        "colab_type": "code",
        "colab": {}
      },
      "source": [
        "# train_test_split"
      ],
      "execution_count": 0,
      "outputs": []
    },
    {
      "cell_type": "code",
      "metadata": {
        "id": "3JTlN58G4lC1",
        "colab_type": "code",
        "colab": {}
      },
      "source": [
        "from sklearn.model_selection import train_test_split\n",
        "X_train,X_test,Y_train,Y_test = train_test_split(x,y,test_size = 0.25,random_state = 101)"
      ],
      "execution_count": 0,
      "outputs": []
    },
    {
      "cell_type": "markdown",
      "metadata": {
        "id": "Tl8SV_cu4lC4",
        "colab_type": "text"
      },
      "source": [
        "# Feature Selection\n",
        "-since we have many variables we have to check the importance of variables"
      ]
    },
    {
      "cell_type": "code",
      "metadata": {
        "id": "kn8WYhu34lC5",
        "colab_type": "code",
        "colab": {}
      },
      "source": [
        "from sklearn.ensemble import RandomForestClassifier  \n"
      ],
      "execution_count": 0,
      "outputs": []
    },
    {
      "cell_type": "code",
      "metadata": {
        "id": "4-VR_GjC4lC7",
        "colab_type": "code",
        "colab": {
          "base_uri": "https://localhost:8080/",
          "height": 187
        },
        "outputId": "3ebb337a-914f-467c-bbac-644c3f157106"
      },
      "source": [
        "model =RandomForestClassifier()\n",
        "model.fit(X_train,Y_train)"
      ],
      "execution_count": 32,
      "outputs": [
        {
          "output_type": "stream",
          "text": [
            "/usr/local/lib/python3.6/dist-packages/sklearn/ensemble/forest.py:245: FutureWarning: The default value of n_estimators will change from 10 in version 0.20 to 100 in 0.22.\n",
            "  \"10 in version 0.20 to 100 in 0.22.\", FutureWarning)\n"
          ],
          "name": "stderr"
        },
        {
          "output_type": "execute_result",
          "data": {
            "text/plain": [
              "RandomForestClassifier(bootstrap=True, class_weight=None, criterion='gini',\n",
              "                       max_depth=None, max_features='auto', max_leaf_nodes=None,\n",
              "                       min_impurity_decrease=0.0, min_impurity_split=None,\n",
              "                       min_samples_leaf=1, min_samples_split=2,\n",
              "                       min_weight_fraction_leaf=0.0, n_estimators=10,\n",
              "                       n_jobs=None, oob_score=False, random_state=None,\n",
              "                       verbose=0, warm_start=False)"
            ]
          },
          "metadata": {
            "tags": []
          },
          "execution_count": 32
        }
      ]
    },
    {
      "cell_type": "code",
      "metadata": {
        "id": "3zvxzjua4lC_",
        "colab_type": "code",
        "colab": {}
      },
      "source": [
        "score = np.round(model.feature_importances_,3)"
      ],
      "execution_count": 0,
      "outputs": []
    },
    {
      "cell_type": "code",
      "metadata": {
        "id": "O2nQSNRm4lDB",
        "colab_type": "code",
        "colab": {
          "base_uri": "https://localhost:8080/",
          "height": 414
        },
        "outputId": "02ac0993-a86d-4775-aec6-31c824b110d8"
      },
      "source": [
        "importances = pd.DataFrame({'feature':X_train.columns,'importance':score})\n",
        "importances = importances.sort_values('importance',ascending=False).set_index('feature')\n",
        "\n",
        "plt.rcParams['figure.figsize'] = (11, 4)\n",
        "importances.plot.bar();"
      ],
      "execution_count": 34,
      "outputs": [
        {
          "output_type": "display_data",
          "data": {
            "image/png": "[encoded data removed]",
            "text/plain": [
              "<Figure size 792x288 with 1 Axes>"
            ]
          },
          "metadata": {
            "tags": []
          }
        }
      ]
    },
    {
      "cell_type": "code",
      "metadata": {
        "id": "mRg3jY274lDE",
        "colab_type": "code",
        "colab": {
          "base_uri": "https://localhost:8080/",
          "height": 234
        },
        "outputId": "d314ddc5-4802-47b0-91eb-07b4f419f4f1"
      },
      "source": [
        "X_train.columns"
      ],
      "execution_count": 35,
      "outputs": [
        {
          "output_type": "execute_result",
          "data": {
            "text/plain": [
              "Index(['protocol_type', 'service', 'flag', 'duration', 'src_bytes',\n",
              "       'dst_bytes', 'land', 'wrong_fragment', 'urgent', 'hot',\n",
              "       'num_failed_logins', 'logged_in', 'num_compromised', 'root_shell',\n",
              "       'su_attempted', 'num_root', 'num_file_creations', 'num_shells',\n",
              "       'num_access_files', 'is_host_login', 'is_guest_login', 'count',\n",
              "       'srv_count', 'serror_rate', 'srv_serror_rate', 'rerror_rate',\n",
              "       'srv_rerror_rate', 'same_srv_rate', 'diff_srv_rate',\n",
              "       'srv_diff_host_rate', 'dst_host_count', 'dst_host_srv_count',\n",
              "       'dst_host_same_srv_rate', 'dst_host_diff_srv_rate',\n",
              "       'dst_host_same_src_port_rate', 'dst_host_srv_diff_host_rate',\n",
              "       'dst_host_serror_rate', 'dst_host_srv_serror_rate',\n",
              "       'dst_host_rerror_rate', 'dst_host_srv_rerror_rate'],\n",
              "      dtype='object')"
            ]
          },
          "metadata": {
            "tags": []
          },
          "execution_count": 35
        }
      ]
    },
    {
      "cell_type": "code",
      "metadata": {
        "id": "rLqVKCN-4lDP",
        "colab_type": "code",
        "colab": {}
      },
      "source": [
        "x1 = train_final_data[['protocol_type', 'service', 'flag', 'duration', 'src_bytes',\n",
        "       'dst_bytes', 'land', 'wrong_fragment', 'urgent', 'hot',\n",
        "       'num_failed_logins', 'logged_in', 'num_compromised', 'root_shell',\n",
        "       'su_attempted', 'num_root', 'num_file_creations', 'num_shells',\n",
        "       'num_access_files', 'is_host_login', 'is_guest_login', 'count',\n",
        "       'srv_count', 'serror_rate', 'srv_serror_rate', 'rerror_rate',\n",
        "       'srv_rerror_rate', 'same_srv_rate', 'diff_srv_rate',\n",
        "       'srv_diff_host_rate', 'dst_host_count', 'dst_host_srv_count',\n",
        "       'dst_host_same_srv_rate', 'dst_host_diff_srv_rate',\n",
        "       'dst_host_same_src_port_rate', 'dst_host_srv_diff_host_rate',\n",
        "       'dst_host_serror_rate', 'dst_host_srv_serror_rate',\n",
        "       'dst_host_rerror_rate', 'dst_host_srv_rerror_rate']]"
      ],
      "execution_count": 0,
      "outputs": []
    },
    {
      "cell_type": "code",
      "metadata": {
        "id": "PTx_sfQj4lDR",
        "colab_type": "code",
        "colab": {}
      },
      "source": [
        "y1 =train_final_data['class']\n"
      ],
      "execution_count": 0,
      "outputs": []
    },
    {
      "cell_type": "code",
      "metadata": {
        "id": "em0Z6ir-4lDV",
        "colab_type": "code",
        "colab": {}
      },
      "source": [
        "from sklearn.model_selection import train_test_split\n",
        "\n",
        "X_train,X_test,Y_train,Y_test = train_test_split(x1,y1,test_size = 0.25,random_state = 101)\n"
      ],
      "execution_count": 0,
      "outputs": []
    },
    {
      "cell_type": "markdown",
      "metadata": {
        "id": "WaV7kdOE4lDX",
        "colab_type": "text"
      },
      "source": [
        "# Fitting the Model"
      ]
    },
    {
      "cell_type": "code",
      "metadata": {
        "id": "D8RkIGmp4lDZ",
        "colab_type": "code",
        "colab": {}
      },
      "source": [
        "from sklearn.linear_model import LogisticRegression\n",
        "from sklearn.naive_bayes import GaussianNB\n",
        "from sklearn.tree import DecisionTreeClassifier\n",
        "from sklearn.neighbors import KNeighborsClassifier\n",
        "from sklearn.svm import SVC\n",
        "from sklearn.ensemble import RandomForestClassifier  \n",
        " \n"
      ],
      "execution_count": 0,
      "outputs": []
    },
    {
      "cell_type": "code",
      "metadata": {
        "id": "rlDwk6-O4lDb",
        "colab_type": "code",
        "colab": {
          "base_uri": "https://localhost:8080/",
          "height": 254
        },
        "outputId": "d86f73bb-1da5-4ce4-c238-1cd2cc868a71"
      },
      "source": [
        "# Train LogisticRegression Model\n",
        "LGR_Classifier = LogisticRegression()\n",
        "LGR_Classifier.fit(X_train, Y_train);\n",
        "\n",
        "# Train Gaussian Naive Baye Model\n",
        "GAUS_Classifier = GaussianNB()\n",
        "GAUS_Classifier.fit(X_train, Y_train);\n",
        "\n",
        "# Train Decision Tree Model\n",
        "DTC_Classifier = DecisionTreeClassifier()\n",
        "DTC_Classifier.fit(X_train, Y_train);\n",
        "            \n",
        "\n",
        "# Train KNeighborsClassifier Model\n",
        "KNN_Classifier = KNeighborsClassifier()\n",
        "KNN_Classifier.fit(X_train, Y_train); \n",
        "\n",
        "# Train Support Vector Machine \n",
        "SVC_Classifier=SVC()\n",
        "SVC_Classifier.fit(X_train,Y_train)\n",
        "\n",
        "#RFC classifier\n",
        "RFC_Classifier = RandomForestClassifier()\n",
        "RFC_Classifier.fit(X_train,Y_train)\n"
      ],
      "execution_count": 40,
      "outputs": [
        {
          "output_type": "stream",
          "text": [
            "/usr/local/lib/python3.6/dist-packages/sklearn/linear_model/logistic.py:432: FutureWarning: Default solver will be changed to 'lbfgs' in 0.22. Specify a solver to silence this warning.\n",
            "  FutureWarning)\n",
            "/usr/local/lib/python3.6/dist-packages/sklearn/svm/base.py:193: FutureWarning: The default value of gamma will change from 'auto' to 'scale' in version 0.22 to account better for unscaled features. Set gamma explicitly to 'auto' or 'scale' to avoid this warning.\n",
            "  \"avoid this warning.\", FutureWarning)\n",
            "/usr/local/lib/python3.6/dist-packages/sklearn/ensemble/forest.py:245: FutureWarning: The default value of n_estimators will change from 10 in version 0.20 to 100 in 0.22.\n",
            "  \"10 in version 0.20 to 100 in 0.22.\", FutureWarning)\n"
          ],
          "name": "stderr"
        },
        {
          "output_type": "execute_result",
          "data": {
            "text/plain": [
              "RandomForestClassifier(bootstrap=True, class_weight=None, criterion='gini',\n",
              "                       max_depth=None, max_features='auto', max_leaf_nodes=None,\n",
              "                       min_impurity_decrease=0.0, min_impurity_split=None,\n",
              "                       min_samples_leaf=1, min_samples_split=2,\n",
              "                       min_weight_fraction_leaf=0.0, n_estimators=10,\n",
              "                       n_jobs=None, oob_score=False, random_state=None,\n",
              "                       verbose=0, warm_start=False)"
            ]
          },
          "metadata": {
            "tags": []
          },
          "execution_count": 40
        }
      ]
    },
    {
      "cell_type": "code",
      "metadata": {
        "id": "rxc4jVuX4lDd",
        "colab_type": "code",
        "colab": {}
      },
      "source": [
        "predictions_train_LGR = LGR_Classifier.predict(X_train)\n",
        "predictions_test_LGR = LGR_Classifier.predict(X_test)\n",
        "\n",
        "predictions_train_GAUS= GAUS_Classifier.predict(X_train)\n",
        "predictions_test_GAUS = GAUS_Classifier.predict(X_test)\n",
        "\n",
        "predictions_train_DTC = DTC_Classifier.predict(X_train)\n",
        "predictions_test_DTC = DTC_Classifier.predict(X_test)\n",
        "\n",
        "predictions_train_KNN = KNN_Classifier.predict(X_train)\n",
        "predictions_test_KNN = KNN_Classifier.predict(X_test)\n",
        "\n",
        "\n",
        "predictions_train_SVC = SVC_Classifier.predict(X_train)\n",
        "predictions_test_SVC = SVC_Classifier.predict(X_test)\n",
        "\n",
        "predictions_train_RFC = RFC_Classifier.predict(X_train)\n",
        "predictions_test_RFC = RFC_Classifier.predict(X_test)\n"
      ],
      "execution_count": 0,
      "outputs": []
    },
    {
      "cell_type": "code",
      "metadata": {
        "id": "3g_3FW-L4lDh",
        "colab_type": "code",
        "colab": {}
      },
      "source": [
        "\n",
        "from sklearn.metrics import roc_curve,auc,confusion_matrix, \\\n",
        "classification_report,accuracy_score"
      ],
      "execution_count": 0,
      "outputs": []
    },
    {
      "cell_type": "code",
      "metadata": {
        "id": "hpBKa6in4lDj",
        "colab_type": "code",
        "colab": {
          "base_uri": "https://localhost:8080/",
          "height": 351
        },
        "outputId": "25be31c4-ee78-44b4-800c-0163005bba0a"
      },
      "source": [
        "print(classification_report(Y_train,predictions_train_LGR))\n",
        "print(\"Accuracy:\",accuracy_score(Y_train,predictions_train_LGR))\n",
        "\n",
        "print(classification_report(Y_test,predictions_test_LGR))\n",
        "print(\"Accuracy:\",accuracy_score(Y_test,predictions_test_LGR))"
      ],
      "execution_count": 43,
      "outputs": [
        {
          "output_type": "stream",
          "text": [
            "              precision    recall  f1-score   support\n",
            "\n",
            "     anomaly       0.96      0.94      0.95      8824\n",
            "      normal       0.95      0.97      0.96     10070\n",
            "\n",
            "    accuracy                           0.95     18894\n",
            "   macro avg       0.96      0.95      0.95     18894\n",
            "weighted avg       0.95      0.95      0.95     18894\n",
            "\n",
            "Accuracy: 0.9546946120461522\n",
            "              precision    recall  f1-score   support\n",
            "\n",
            "     anomaly       0.96      0.93      0.95      2919\n",
            "      normal       0.94      0.97      0.95      3379\n",
            "\n",
            "    accuracy                           0.95      6298\n",
            "   macro avg       0.95      0.95      0.95      6298\n",
            "weighted avg       0.95      0.95      0.95      6298\n",
            "\n",
            "Accuracy: 0.9507780247697681\n"
          ],
          "name": "stdout"
        }
      ]
    },
    {
      "cell_type": "code",
      "metadata": {
        "id": "MXUVAEtu4lDn",
        "colab_type": "code",
        "colab": {
          "base_uri": "https://localhost:8080/",
          "height": 351
        },
        "outputId": "6ecb575b-d22d-4f85-a04a-2553d0049bbc"
      },
      "source": [
        "print(classification_report(Y_train,predictions_train_GAUS))\n",
        "print(\"Accuracy:\",accuracy_score(Y_train,predictions_train_GAUS))\n",
        "\n",
        "print(classification_report(Y_test,predictions_test_GAUS))\n",
        "print(\"Accuracy:\",accuracy_score(Y_test,predictions_test_GAUS))"
      ],
      "execution_count": 44,
      "outputs": [
        {
          "output_type": "stream",
          "text": [
            "              precision    recall  f1-score   support\n",
            "\n",
            "     anomaly       0.89      0.87      0.88      8824\n",
            "      normal       0.89      0.90      0.90     10070\n",
            "\n",
            "    accuracy                           0.89     18894\n",
            "   macro avg       0.89      0.89      0.89     18894\n",
            "weighted avg       0.89      0.89      0.89     18894\n",
            "\n",
            "Accuracy: 0.8893828728696941\n",
            "              precision    recall  f1-score   support\n",
            "\n",
            "     anomaly       0.88      0.88      0.88      2919\n",
            "      normal       0.90      0.90      0.90      3379\n",
            "\n",
            "    accuracy                           0.89      6298\n",
            "   macro avg       0.89      0.89      0.89      6298\n",
            "weighted avg       0.89      0.89      0.89      6298\n",
            "\n",
            "Accuracy: 0.8896475071451254\n"
          ],
          "name": "stdout"
        }
      ]
    },
    {
      "cell_type": "code",
      "metadata": {
        "id": "Cvhm2l354lDr",
        "colab_type": "code",
        "colab": {
          "base_uri": "https://localhost:8080/",
          "height": 351
        },
        "outputId": "95319a53-2409-4382-bb93-e748df606829"
      },
      "source": [
        "print(classification_report(Y_train,predictions_train_DTC))\n",
        "print(\"Accuracy:\",accuracy_score(Y_train,predictions_train_DTC))\n",
        "\n",
        "print(classification_report(Y_test,predictions_test_DTC))\n",
        "print(\"Accuracy:\",accuracy_score(Y_test,predictions_test_DTC))"
      ],
      "execution_count": 45,
      "outputs": [
        {
          "output_type": "stream",
          "text": [
            "              precision    recall  f1-score   support\n",
            "\n",
            "     anomaly       1.00      1.00      1.00      8824\n",
            "      normal       1.00      1.00      1.00     10070\n",
            "\n",
            "    accuracy                           1.00     18894\n",
            "   macro avg       1.00      1.00      1.00     18894\n",
            "weighted avg       1.00      1.00      1.00     18894\n",
            "\n",
            "Accuracy: 1.0\n",
            "              precision    recall  f1-score   support\n",
            "\n",
            "     anomaly       1.00      0.99      1.00      2919\n",
            "      normal       1.00      1.00      1.00      3379\n",
            "\n",
            "    accuracy                           1.00      6298\n",
            "   macro avg       1.00      1.00      1.00      6298\n",
            "weighted avg       1.00      1.00      1.00      6298\n",
            "\n",
            "Accuracy: 0.9957129247380121\n"
          ],
          "name": "stdout"
        }
      ]
    },
    {
      "cell_type": "code",
      "metadata": {
        "id": "3at0IgII4lDu",
        "colab_type": "code",
        "colab": {
          "base_uri": "https://localhost:8080/",
          "height": 351
        },
        "outputId": "59c40072-551b-4e1b-97f9-876b74bce793"
      },
      "source": [
        "print(classification_report(Y_train,predictions_train_KNN))\n",
        "print(\"Accuracy:\",accuracy_score(Y_train,predictions_train_KNN))\n",
        "\n",
        "print(classification_report(Y_test,predictions_test_KNN))\n",
        "print(\"Accuracy:\",accuracy_score(Y_test,predictions_test_KNN))"
      ],
      "execution_count": 46,
      "outputs": [
        {
          "output_type": "stream",
          "text": [
            "              precision    recall  f1-score   support\n",
            "\n",
            "     anomaly       1.00      0.99      0.99      8824\n",
            "      normal       0.99      1.00      1.00     10070\n",
            "\n",
            "    accuracy                           0.99     18894\n",
            "   macro avg       1.00      0.99      0.99     18894\n",
            "weighted avg       0.99      0.99      0.99     18894\n",
            "\n",
            "Accuracy: 0.994919021911718\n",
            "              precision    recall  f1-score   support\n",
            "\n",
            "     anomaly       1.00      0.98      0.99      2919\n",
            "      normal       0.99      1.00      0.99      3379\n",
            "\n",
            "    accuracy                           0.99      6298\n",
            "   macro avg       0.99      0.99      0.99      6298\n",
            "weighted avg       0.99      0.99      0.99      6298\n",
            "\n",
            "Accuracy: 0.9911082883455065\n"
          ],
          "name": "stdout"
        }
      ]
    },
    {
      "cell_type": "code",
      "metadata": {
        "id": "oM9VR1Gn4lDy",
        "colab_type": "code",
        "colab": {
          "base_uri": "https://localhost:8080/",
          "height": 351
        },
        "outputId": "ed7b1e83-3838-4a69-be60-87c09907fbc7"
      },
      "source": [
        "print(classification_report(Y_train,predictions_train_SVC))\n",
        "print(\"Accuracy:\",accuracy_score(Y_train,predictions_train_SVC))\n",
        "\n",
        "print(classification_report(Y_test,predictions_test_SVC))\n",
        "print(\"Accuracy:\",accuracy_score(Y_test,predictions_test_SVC))"
      ],
      "execution_count": 47,
      "outputs": [
        {
          "output_type": "stream",
          "text": [
            "              precision    recall  f1-score   support\n",
            "\n",
            "     anomaly       0.99      0.99      0.99      8824\n",
            "      normal       0.99      0.99      0.99     10070\n",
            "\n",
            "    accuracy                           0.99     18894\n",
            "   macro avg       0.99      0.99      0.99     18894\n",
            "weighted avg       0.99      0.99      0.99     18894\n",
            "\n",
            "Accuracy: 0.9932253625489573\n",
            "              precision    recall  f1-score   support\n",
            "\n",
            "     anomaly       0.99      0.99      0.99      2919\n",
            "      normal       0.99      0.99      0.99      3379\n",
            "\n",
            "    accuracy                           0.99      6298\n",
            "   macro avg       0.99      0.99      0.99      6298\n",
            "weighted avg       0.99      0.99      0.99      6298\n",
            "\n",
            "Accuracy: 0.9882502381708479\n"
          ],
          "name": "stdout"
        }
      ]
    },
    {
      "cell_type": "code",
      "metadata": {
        "id": "kkLCv-2E4lD3",
        "colab_type": "code",
        "colab": {
          "base_uri": "https://localhost:8080/",
          "height": 351
        },
        "outputId": "aa1ced19-3222-46fe-c564-2ed76cdef861"
      },
      "source": [
        "print(classification_report(Y_train,predictions_train_RFC))\n",
        "print(\"Accuracy:\",accuracy_score(Y_train,predictions_train_RFC))\n",
        "\n",
        "print(classification_report(Y_test,predictions_test_RFC))\n",
        "print(\"Accuracy:\",accuracy_score(Y_test,predictions_test_RFC))"
      ],
      "execution_count": 48,
      "outputs": [
        {
          "output_type": "stream",
          "text": [
            "              precision    recall  f1-score   support\n",
            "\n",
            "     anomaly       1.00      1.00      1.00      8824\n",
            "      normal       1.00      1.00      1.00     10070\n",
            "\n",
            "    accuracy                           1.00     18894\n",
            "   macro avg       1.00      1.00      1.00     18894\n",
            "weighted avg       1.00      1.00      1.00     18894\n",
            "\n",
            "Accuracy: 0.9998412194347411\n",
            "              precision    recall  f1-score   support\n",
            "\n",
            "     anomaly       1.00      1.00      1.00      2919\n",
            "      normal       1.00      1.00      1.00      3379\n",
            "\n",
            "    accuracy                           1.00      6298\n",
            "   macro avg       1.00      1.00      1.00      6298\n",
            "weighted avg       1.00      1.00      1.00      6298\n",
            "\n",
            "Accuracy: 0.9971419498253413\n"
          ],
          "name": "stdout"
        }
      ]
    },
    {
      "cell_type": "markdown",
      "metadata": {
        "id": "D_BGweG94lD7",
        "colab_type": "text"
      },
      "source": [
        "# cross_validation"
      ]
    },
    {
      "cell_type": "code",
      "metadata": {
        "id": "ijMhFH2X4lD8",
        "colab_type": "code",
        "colab": {}
      },
      "source": [
        "from sklearn.model_selection import cross_val_score"
      ],
      "execution_count": 0,
      "outputs": []
    },
    {
      "cell_type": "code",
      "metadata": {
        "id": "Cj7_PjPU4lD-",
        "colab_type": "code",
        "colab": {}
      },
      "source": [
        "# X_train,Y_train"
      ],
      "execution_count": 0,
      "outputs": []
    },
    {
      "cell_type": "code",
      "metadata": {
        "scrolled": true,
        "id": "ybPAYLtC4lEB",
        "colab_type": "code",
        "colab": {
          "base_uri": "https://localhost:8080/",
          "height": 438
        },
        "outputId": "27d65d6a-a7c7-4d9d-ac52-d05d1fb78ed3"
      },
      "source": [
        "score_LGR = cross_val_score(LGR_Classifier, X_train, Y_train).mean()\n",
        "score_GAUS = cross_val_score(GAUS_Classifier, X_train, Y_train).mean()\n",
        "score_DTC = cross_val_score(DTC_Classifier, X_train, Y_train).mean()\n",
        "score_KNN = cross_val_score(KNN_Classifier, X_train, Y_train).mean()\n",
        "score_SVC = cross_val_score(SVC_Classifier, X_train, Y_train).mean()\n",
        "score_RFC = cross_val_score(RFC_Classifier, X_train, Y_train).mean()\n"
      ],
      "execution_count": 51,
      "outputs": [
        {
          "output_type": "stream",
          "text": [
            "/usr/local/lib/python3.6/dist-packages/sklearn/model_selection/_split.py:1978: FutureWarning: The default value of cv will change from 3 to 5 in version 0.22. Specify it explicitly to silence this warning.\n",
            "  warnings.warn(CV_WARNING, FutureWarning)\n",
            "/usr/local/lib/python3.6/dist-packages/sklearn/linear_model/logistic.py:432: FutureWarning: Default solver will be changed to 'lbfgs' in 0.22. Specify a solver to silence this warning.\n",
            "  FutureWarning)\n",
            "/usr/local/lib/python3.6/dist-packages/sklearn/linear_model/logistic.py:432: FutureWarning: Default solver will be changed to 'lbfgs' in 0.22. Specify a solver to silence this warning.\n",
            "  FutureWarning)\n",
            "/usr/local/lib/python3.6/dist-packages/sklearn/linear_model/logistic.py:432: FutureWarning: Default solver will be changed to 'lbfgs' in 0.22. Specify a solver to silence this warning.\n",
            "  FutureWarning)\n",
            "/usr/local/lib/python3.6/dist-packages/sklearn/model_selection/_split.py:1978: FutureWarning: The default value of cv will change from 3 to 5 in version 0.22. Specify it explicitly to silence this warning.\n",
            "  warnings.warn(CV_WARNING, FutureWarning)\n",
            "/usr/local/lib/python3.6/dist-packages/sklearn/model_selection/_split.py:1978: FutureWarning: The default value of cv will change from 3 to 5 in version 0.22. Specify it explicitly to silence this warning.\n",
            "  warnings.warn(CV_WARNING, FutureWarning)\n",
            "/usr/local/lib/python3.6/dist-packages/sklearn/model_selection/_split.py:1978: FutureWarning: The default value of cv will change from 3 to 5 in version 0.22. Specify it explicitly to silence this warning.\n",
            "  warnings.warn(CV_WARNING, FutureWarning)\n",
            "/usr/local/lib/python3.6/dist-packages/sklearn/model_selection/_split.py:1978: FutureWarning: The default value of cv will change from 3 to 5 in version 0.22. Specify it explicitly to silence this warning.\n",
            "  warnings.warn(CV_WARNING, FutureWarning)\n",
            "/usr/local/lib/python3.6/dist-packages/sklearn/svm/base.py:193: FutureWarning: The default value of gamma will change from 'auto' to 'scale' in version 0.22 to account better for unscaled features. Set gamma explicitly to 'auto' or 'scale' to avoid this warning.\n",
            "  \"avoid this warning.\", FutureWarning)\n",
            "/usr/local/lib/python3.6/dist-packages/sklearn/svm/base.py:193: FutureWarning: The default value of gamma will change from 'auto' to 'scale' in version 0.22 to account better for unscaled features. Set gamma explicitly to 'auto' or 'scale' to avoid this warning.\n",
            "  \"avoid this warning.\", FutureWarning)\n",
            "/usr/local/lib/python3.6/dist-packages/sklearn/svm/base.py:193: FutureWarning: The default value of gamma will change from 'auto' to 'scale' in version 0.22 to account better for unscaled features. Set gamma explicitly to 'auto' or 'scale' to avoid this warning.\n",
            "  \"avoid this warning.\", FutureWarning)\n",
            "/usr/local/lib/python3.6/dist-packages/sklearn/model_selection/_split.py:1978: FutureWarning: The default value of cv will change from 3 to 5 in version 0.22. Specify it explicitly to silence this warning.\n",
            "  warnings.warn(CV_WARNING, FutureWarning)\n"
          ],
          "name": "stderr"
        }
      ]
    },
    {
      "cell_type": "code",
      "metadata": {
        "id": "-sd6X0T24lED",
        "colab_type": "code",
        "colab": {
          "base_uri": "https://localhost:8080/",
          "height": 117
        },
        "outputId": "16ca1b84-075d-48ef-bd9c-b664c27c849d"
      },
      "source": [
        "print(score_LGR*100)\n",
        "print(score_GAUS*100)\n",
        "print(score_DTC*100)\n",
        "print(score_KNN*100)\n",
        "print(score_SVC*100)\n",
        "print(score_RFC*100)\n",
        "\n",
        "\n"
      ],
      "execution_count": 52,
      "outputs": [
        {
          "output_type": "stream",
          "text": [
            "95.35832145107719\n",
            "89.15523847330144\n",
            "99.43368011970927\n",
            "99.09495160278846\n",
            "98.93616515316565\n",
            "99.61893335997888\n"
          ],
          "name": "stdout"
        }
      ]
    },
    {
      "cell_type": "code",
      "metadata": {
        "id": "xqsKRfbx4lEH",
        "colab_type": "code",
        "colab": {}
      },
      "source": [
        "# X_test,Y_test"
      ],
      "execution_count": 0,
      "outputs": []
    },
    {
      "cell_type": "code",
      "metadata": {
        "scrolled": true,
        "id": "PAgJjeli4lEI",
        "colab_type": "code",
        "colab": {
          "base_uri": "https://localhost:8080/",
          "height": 438
        },
        "outputId": "efef4791-d014-4d6d-d8db-4427a3257372"
      },
      "source": [
        "score_LGR_test = cross_val_score(LGR_Classifier, X_test, Y_test).mean()\n",
        "score_GAUS_test = cross_val_score(GAUS_Classifier, X_test, Y_test).mean()\n",
        "score_DTC_test = cross_val_score(DTC_Classifier, X_test, Y_test).mean()\n",
        "score_KNN_test = cross_val_score(KNN_Classifier, X_test, Y_test).mean()\n",
        "score_SVC_test = cross_val_score(SVC_Classifier, X_test, Y_test).mean()\n",
        "score_RFC_test = cross_val_score(RFC_Classifier, X_test, Y_test).mean()\n",
        "\n",
        "\n"
      ],
      "execution_count": 54,
      "outputs": [
        {
          "output_type": "stream",
          "text": [
            "/usr/local/lib/python3.6/dist-packages/sklearn/model_selection/_split.py:1978: FutureWarning: The default value of cv will change from 3 to 5 in version 0.22. Specify it explicitly to silence this warning.\n",
            "  warnings.warn(CV_WARNING, FutureWarning)\n",
            "/usr/local/lib/python3.6/dist-packages/sklearn/linear_model/logistic.py:432: FutureWarning: Default solver will be changed to 'lbfgs' in 0.22. Specify a solver to silence this warning.\n",
            "  FutureWarning)\n",
            "/usr/local/lib/python3.6/dist-packages/sklearn/linear_model/logistic.py:432: FutureWarning: Default solver will be changed to 'lbfgs' in 0.22. Specify a solver to silence this warning.\n",
            "  FutureWarning)\n",
            "/usr/local/lib/python3.6/dist-packages/sklearn/linear_model/logistic.py:432: FutureWarning: Default solver will be changed to 'lbfgs' in 0.22. Specify a solver to silence this warning.\n",
            "  FutureWarning)\n",
            "/usr/local/lib/python3.6/dist-packages/sklearn/model_selection/_split.py:1978: FutureWarning: The default value of cv will change from 3 to 5 in version 0.22. Specify it explicitly to silence this warning.\n",
            "  warnings.warn(CV_WARNING, FutureWarning)\n",
            "/usr/local/lib/python3.6/dist-packages/sklearn/model_selection/_split.py:1978: FutureWarning: The default value of cv will change from 3 to 5 in version 0.22. Specify it explicitly to silence this warning.\n",
            "  warnings.warn(CV_WARNING, FutureWarning)\n",
            "/usr/local/lib/python3.6/dist-packages/sklearn/model_selection/_split.py:1978: FutureWarning: The default value of cv will change from 3 to 5 in version 0.22. Specify it explicitly to silence this warning.\n",
            "  warnings.warn(CV_WARNING, FutureWarning)\n",
            "/usr/local/lib/python3.6/dist-packages/sklearn/model_selection/_split.py:1978: FutureWarning: The default value of cv will change from 3 to 5 in version 0.22. Specify it explicitly to silence this warning.\n",
            "  warnings.warn(CV_WARNING, FutureWarning)\n",
            "/usr/local/lib/python3.6/dist-packages/sklearn/svm/base.py:193: FutureWarning: The default value of gamma will change from 'auto' to 'scale' in version 0.22 to account better for unscaled features. Set gamma explicitly to 'auto' or 'scale' to avoid this warning.\n",
            "  \"avoid this warning.\", FutureWarning)\n",
            "/usr/local/lib/python3.6/dist-packages/sklearn/svm/base.py:193: FutureWarning: The default value of gamma will change from 'auto' to 'scale' in version 0.22 to account better for unscaled features. Set gamma explicitly to 'auto' or 'scale' to avoid this warning.\n",
            "  \"avoid this warning.\", FutureWarning)\n",
            "/usr/local/lib/python3.6/dist-packages/sklearn/svm/base.py:193: FutureWarning: The default value of gamma will change from 'auto' to 'scale' in version 0.22 to account better for unscaled features. Set gamma explicitly to 'auto' or 'scale' to avoid this warning.\n",
            "  \"avoid this warning.\", FutureWarning)\n",
            "/usr/local/lib/python3.6/dist-packages/sklearn/model_selection/_split.py:1978: FutureWarning: The default value of cv will change from 3 to 5 in version 0.22. Specify it explicitly to silence this warning.\n",
            "  warnings.warn(CV_WARNING, FutureWarning)\n"
          ],
          "name": "stderr"
        }
      ]
    },
    {
      "cell_type": "code",
      "metadata": {
        "id": "biVHjusK4lEK",
        "colab_type": "code",
        "colab": {
          "base_uri": "https://localhost:8080/",
          "height": 117
        },
        "outputId": "35e12d94-9adf-4df1-e2ca-9d123e2b6cce"
      },
      "source": [
        "print(score_LGR_test*100)\n",
        "print(score_GAUS_test*100)\n",
        "print(score_DTC_test*100)\n",
        "print(score_KNN_test*100)\n",
        "print(score_SVC_test*100)\n",
        "print(score_RFC_test*100)\n",
        "\n",
        "\n"
      ],
      "execution_count": 55,
      "outputs": [
        {
          "output_type": "stream",
          "text": [
            "95.45888820829269\n",
            "83.20055657644986\n",
            "98.69797409197125\n",
            "98.47566112358871\n",
            "97.71349924756308\n",
            "99.31723345205955\n"
          ],
          "name": "stdout"
        }
      ]
    },
    {
      "cell_type": "code",
      "metadata": {
        "id": "aHCht4U74lEM",
        "colab_type": "code",
        "colab": {}
      },
      "source": [
        "a = ['LGR','GAUS','DTC','KNN','SVC','RFC']\n",
        "b = [95.45,83.20,98.76,98.47,97.71,99.17]"
      ],
      "execution_count": 0,
      "outputs": []
    },
    {
      "cell_type": "code",
      "metadata": {
        "id": "8jLpYHp_4lEN",
        "colab_type": "code",
        "colab": {
          "base_uri": "https://localhost:8080/",
          "height": 226
        },
        "outputId": "f3c6f2fd-1501-4c36-f561-30cd99e28eeb"
      },
      "source": [
        "DATA = {'ML':a,'ACC':b}\n",
        "pd.DataFrame(DATA)"
      ],
      "execution_count": 57,
      "outputs": [
        {
          "output_type": "execute_result",
          "data": {
            "text/html": [
              "<div>\n",
              "<style scoped>\n",
              "    .dataframe tbody tr th:only-of-type {\n",
              "        vertical-align: middle;\n",
              "    }\n",
              "\n",
              "    .dataframe tbody tr th {\n",
              "        vertical-align: top;\n",
              "    }\n",
              "\n",
              "    .dataframe thead th {\n",
              "        text-align: right;\n",
              "    }\n",
              "</style>\n",
              "<table border=\"1\" class=\"dataframe\">\n",
              "  <thead>\n",
              "    <tr style=\"text-align: right;\">\n",
              "      <th></th>\n",
              "      <th>ML</th>\n",
              "      <th>ACC</th>\n",
              "    </tr>\n",
              "  </thead>\n",
              "  <tbody>\n",
              "    <tr>\n",
              "      <th>0</th>\n",
              "      <td>LGR</td>\n",
              "      <td>95.45</td>\n",
              "    </tr>\n",
              "    <tr>\n",
              "      <th>1</th>\n",
              "      <td>GAUS</td>\n",
              "      <td>83.20</td>\n",
              "    </tr>\n",
              "    <tr>\n",
              "      <th>2</th>\n",
              "      <td>DTC</td>\n",
              "      <td>98.76</td>\n",
              "    </tr>\n",
              "    <tr>\n",
              "      <th>3</th>\n",
              "      <td>KNN</td>\n",
              "      <td>98.47</td>\n",
              "    </tr>\n",
              "    <tr>\n",
              "      <th>4</th>\n",
              "      <td>SVC</td>\n",
              "      <td>97.71</td>\n",
              "    </tr>\n",
              "    <tr>\n",
              "      <th>5</th>\n",
              "      <td>RFC</td>\n",
              "      <td>99.17</td>\n",
              "    </tr>\n",
              "  </tbody>\n",
              "</table>\n",
              "</div>"
            ],
            "text/plain": [
              "     ML    ACC\n",
              "0   LGR  95.45\n",
              "1  GAUS  83.20\n",
              "2   DTC  98.76\n",
              "3   KNN  98.47\n",
              "4   SVC  97.71\n",
              "5   RFC  99.17"
            ]
          },
          "metadata": {
            "tags": []
          },
          "execution_count": 57
        }
      ]
    },
    {
      "cell_type": "code",
      "metadata": {
        "id": "ZzSzKKmY4lEP",
        "colab_type": "code",
        "colab": {
          "base_uri": "https://localhost:8080/",
          "height": 281
        },
        "outputId": "39e9a1eb-a7e8-4ae1-a08c-36dc707c02cb"
      },
      "source": [
        "sns.barplot(x = 'ML',y= 'ACC',data = DATA)"
      ],
      "execution_count": 58,
      "outputs": [
        {
          "output_type": "execute_result",
          "data": {
            "text/plain": [
              "<matplotlib.axes._subplots.AxesSubplot at 0x7fe773f30160>"
            ]
          },
          "metadata": {
            "tags": []
          },
          "execution_count": 58
        },
        {
          "output_type": "display_data",
          "data": {
            "image/png": "[encoded data removed]",
            "text/plain": [
              "<Figure size 792x288 with 1 Axes>"
            ]
          },
          "metadata": {
            "tags": []
          }
        }
      ]
    },
    {
      "cell_type": "markdown",
      "metadata": {
        "id": "1fxlPqkD4lER",
        "colab_type": "text"
      },
      "source": [
        "#                                       Random forest - 99.17"
      ]
    },
    {
      "cell_type": "markdown",
      "metadata": {
        "id": "gT4_F2jK4lER",
        "colab_type": "text"
      },
      "source": [
        "## TEST DATA SET PREDICITION"
      ]
    },
    {
      "cell_type": "code",
      "metadata": {
        "id": "kEx9DJzF4lEU",
        "colab_type": "code",
        "colab": {}
      },
      "source": [
        ""
      ],
      "execution_count": 0,
      "outputs": []
    },
    {
      "cell_type": "code",
      "metadata": {
        "id": "eNYD2q4B4lEX",
        "colab_type": "code",
        "colab": {}
      },
      "source": [
        "test_df = test_final_data[['protocol_type', 'service', 'flag', 'duration', 'src_bytes',\n",
        "       'dst_bytes', 'land', 'wrong_fragment', 'urgent', 'hot',\n",
        "       'num_failed_logins', 'logged_in', 'num_compromised', 'root_shell',\n",
        "       'su_attempted', 'num_root', 'num_file_creations', 'num_shells',\n",
        "       'num_access_files', 'is_host_login', 'is_guest_login', 'count',\n",
        "       'srv_count', 'serror_rate', 'srv_serror_rate', 'rerror_rate',\n",
        "       'srv_rerror_rate', 'same_srv_rate', 'diff_srv_rate',\n",
        "       'srv_diff_host_rate', 'dst_host_count', 'dst_host_srv_count',\n",
        "       'dst_host_same_srv_rate', 'dst_host_diff_srv_rate',\n",
        "       'dst_host_same_src_port_rate', 'dst_host_srv_diff_host_rate',\n",
        "       'dst_host_serror_rate', 'dst_host_srv_serror_rate',\n",
        "       'dst_host_rerror_rate', 'dst_host_srv_rerror_rate']]"
      ],
      "execution_count": 0,
      "outputs": []
    },
    {
      "cell_type": "code",
      "metadata": {
        "id": "Ibo1an3P4lEa",
        "colab_type": "code",
        "colab": {}
      },
      "source": [
        "pred_LGR = LGR_Classifier.predict(test_df)\n",
        "pred_GAUS = GAUS_Classifier.predict(test_df)\n",
        "pred_DTC = DTC_Classifier.predict(test_df)\n",
        "pred_KNN = KNN_Classifier.predict(test_df)\n",
        "pred_RFC = RFC_Classifier.predict(test_df)\n",
        "\n",
        "\n"
      ],
      "execution_count": 0,
      "outputs": []
    },
    {
      "cell_type": "code",
      "metadata": {
        "id": "mBkLWplI4lEc",
        "colab_type": "code",
        "colab": {
          "base_uri": "https://localhost:8080/",
          "height": 50
        },
        "outputId": "55b174fc-fa5d-4f09-b356-8f8d1ab8ee84"
      },
      "source": [
        "pred_LGR"
      ],
      "execution_count": 61,
      "outputs": [
        {
          "output_type": "execute_result",
          "data": {
            "text/plain": [
              "array(['anomaly', 'anomaly', 'normal', ..., 'normal', 'normal', 'anomaly'],\n",
              "      dtype=object)"
            ]
          },
          "metadata": {
            "tags": []
          },
          "execution_count": 61
        }
      ]
    },
    {
      "cell_type": "code",
      "metadata": {
        "id": "NU0lHg9r4lEg",
        "colab_type": "code",
        "colab": {
          "base_uri": "https://localhost:8080/",
          "height": 50
        },
        "outputId": "db83bfe1-6b01-44da-a283-fd94e714aff0"
      },
      "source": [
        "pred_GAUS"
      ],
      "execution_count": 62,
      "outputs": [
        {
          "output_type": "execute_result",
          "data": {
            "text/plain": [
              "array(['anomaly', 'anomaly', 'anomaly', ..., 'anomaly', 'anomaly',\n",
              "       'anomaly'], dtype='<U7')"
            ]
          },
          "metadata": {
            "tags": []
          },
          "execution_count": 62
        }
      ]
    },
    {
      "cell_type": "code",
      "metadata": {
        "id": "DfTtBJhl4lEj",
        "colab_type": "code",
        "colab": {
          "base_uri": "https://localhost:8080/",
          "height": 50
        },
        "outputId": "8a002f37-b0e2-47fa-c170-1b94c12c98e6"
      },
      "source": [
        "pred_DTC"
      ],
      "execution_count": 63,
      "outputs": [
        {
          "output_type": "execute_result",
          "data": {
            "text/plain": [
              "array(['anomaly', 'anomaly', 'normal', ..., 'anomaly', 'normal', 'normal'],\n",
              "      dtype=object)"
            ]
          },
          "metadata": {
            "tags": []
          },
          "execution_count": 63
        }
      ]
    },
    {
      "cell_type": "code",
      "metadata": {
        "id": "hnM8O0Ck4lEl",
        "colab_type": "code",
        "colab": {
          "base_uri": "https://localhost:8080/",
          "height": 50
        },
        "outputId": "6e6b8015-8cb2-4563-9967-340a8707355f"
      },
      "source": [
        "pred_KNN"
      ],
      "execution_count": 64,
      "outputs": [
        {
          "output_type": "execute_result",
          "data": {
            "text/plain": [
              "array(['anomaly', 'anomaly', 'normal', ..., 'anomaly', 'normal',\n",
              "       'anomaly'], dtype=object)"
            ]
          },
          "metadata": {
            "tags": []
          },
          "execution_count": 64
        }
      ]
    },
    {
      "cell_type": "code",
      "metadata": {
        "id": "CtA_pEnC4lEo",
        "colab_type": "code",
        "colab": {
          "base_uri": "https://localhost:8080/",
          "height": 50
        },
        "outputId": "f2f87e3c-d568-48f8-e46c-cac31f48d4ea"
      },
      "source": [
        "pred_RFC"
      ],
      "execution_count": 65,
      "outputs": [
        {
          "output_type": "execute_result",
          "data": {
            "text/plain": [
              "array(['anomaly', 'anomaly', 'normal', ..., 'anomaly', 'normal',\n",
              "       'anomaly'], dtype=object)"
            ]
          },
          "metadata": {
            "tags": []
          },
          "execution_count": 65
        }
      ]
    },
    {
      "cell_type": "code",
      "metadata": {
        "id": "vjXn-xkR4lEw",
        "colab_type": "code",
        "colab": {}
      },
      "source": [
        ""
      ],
      "execution_count": 0,
      "outputs": []
    }
  ]
}